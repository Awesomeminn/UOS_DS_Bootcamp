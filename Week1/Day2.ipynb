{
 "cells": [
  {
   "cell_type": "markdown",
   "id": "a4bd5959",
   "metadata": {},
   "source": [
    "# 20240716 \n",
    "\n",
    "## Day2_Function, Module, Class, Object"
   ]
  },
  {
   "cell_type": "markdown",
   "id": "613d8056",
   "metadata": {},
   "source": [
    "## Function"
   ]
  },
  {
   "cell_type": "markdown",
   "id": "b920fa44",
   "metadata": {},
   "source": [
    "### 코드를묶는방법\n",
    "\n",
    " - 관련있는 코드들을 묶어서 전체 프로그램을 조직화할 필요가 있다.\n",
    "\n",
    "\n",
    "1. 함수(function)는 우리가 반복적으로 사용하는 코드를 묶은 것으로, 프로그램의 빌딩 블록과 같다.\n",
    "2. 객체(object)는 서로 관련있는 변수와 함수를 묶는 방법이다.\n",
    "3. 모듈(module)은 함수나 객체들을 소스파일 안에 모은 것이다."
   ]
  },
  {
   "cell_type": "code",
   "execution_count": 6,
   "id": "2db12576",
   "metadata": {},
   "outputs": [
    {
     "name": "stdout",
     "output_type": "stream",
     "text": [
      "반지름의 길이가 3인 원의 면적 =  28.26\n"
     ]
    }
   ],
   "source": [
    "# 함수 만들어보기 (원 면적)\n",
    "def getArea(radius):\n",
    "    area = radius ** 2 * 3.14\n",
    "    return area\n",
    "\n",
    "result = getArea(3)\n",
    "print(\"반지름의 길이가 3인 원의 면적 = \", result)"
   ]
  },
  {
   "cell_type": "code",
   "execution_count": 8,
   "id": "1109fb7e",
   "metadata": {},
   "outputs": [
    {
     "ename": "NameError",
     "evalue": "name 'getArea2' is not defined",
     "output_type": "error",
     "traceback": [
      "\u001b[1;31m---------------------------------------------------------------------------\u001b[0m",
      "\u001b[1;31mNameError\u001b[0m                                 Traceback (most recent call last)",
      "Cell \u001b[1;32mIn[8], line 2\u001b[0m\n\u001b[0;32m      1\u001b[0m \u001b[38;5;66;03m# 순서 바꿔보기 \u001b[39;00m\n\u001b[1;32m----> 2\u001b[0m result \u001b[38;5;241m=\u001b[39m getArea2(\u001b[38;5;241m3\u001b[39m)\n\u001b[0;32m      3\u001b[0m \u001b[38;5;28mprint\u001b[39m(\u001b[38;5;124m\"\u001b[39m\u001b[38;5;124m반지름의 길이가 3인 원의 면적 = \u001b[39m\u001b[38;5;124m\"\u001b[39m, result)\n\u001b[0;32m      5\u001b[0m \u001b[38;5;28;01mdef\u001b[39;00m \u001b[38;5;21mgetArea2\u001b[39m(radius):\n",
      "\u001b[1;31mNameError\u001b[0m: name 'getArea2' is not defined"
     ]
    }
   ],
   "source": [
    "# 순서 바꿔보기 (함수를 먼저 정의해야 함)\n",
    "result = getArea2(3)\n",
    "print(\"반지름의 길이가 3인 원의 면적 = \", result)\n",
    "\n",
    "def getArea2(radius):\n",
    "    area = radius ** 2 * 3.14\n",
    "    return area"
   ]
  },
  {
   "cell_type": "code",
   "execution_count": 9,
   "id": "e53fc2af",
   "metadata": {},
   "outputs": [
    {
     "name": "stdout",
     "output_type": "stream",
     "text": [
      "반지름의 길이가 3인 원의 면적 =  28.26\n"
     ]
    }
   ],
   "source": [
    "def main():\n",
    "    result = getArea3(3)\n",
    "    print(\"반지름의 길이가 3인 원의 면적 = \", result)\n",
    "\n",
    "def getArea3(radius):\n",
    "    area = radius ** 2 * 3.14\n",
    "    return area\n",
    "\n",
    "main()"
   ]
  },
  {
   "cell_type": "code",
   "execution_count": 18,
   "id": "29d6123d",
   "metadata": {},
   "outputs": [
    {
     "name": "stdout",
     "output_type": "stream",
     "text": [
      "안녕 민재 뭐해?\n"
     ]
    }
   ],
   "source": [
    "def greet(name = \"시립대\", msg = \", 별일없죠?\"):\n",
    "    print(\"안녕\", name, msg)\n",
    "greet(msg = \"뭐해?\", name = \"민재\")    "
   ]
  },
  {
   "cell_type": "code",
   "execution_count": 24,
   "id": "44086f54",
   "metadata": {},
   "outputs": [
    {
     "name": "stdout",
     "output_type": "stream",
     "text": [
      "x = 10, y = 20, z = 30\n"
     ]
    }
   ],
   "source": [
    "# Keyword argument\n",
    "def sub(x,y,z):\n",
    "    print(f\"x = {x}, y = {y}, z = {z}\")\n",
    "sub(10, 20, z = 30)"
   ]
  }
 ],
 "metadata": {
  "kernelspec": {
   "display_name": "Python 3 (ipykernel)",
   "language": "python",
   "name": "python3"
  },
  "language_info": {
   "codemirror_mode": {
    "name": "ipython",
    "version": 3
   },
   "file_extension": ".py",
   "mimetype": "text/x-python",
   "name": "python",
   "nbconvert_exporter": "python",
   "pygments_lexer": "ipython3",
   "version": "3.11.3"
  }
 },
 "nbformat": 4,
 "nbformat_minor": 5
}
