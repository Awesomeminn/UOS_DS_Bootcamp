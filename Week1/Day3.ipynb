{
 "cells": [
  {
   "cell_type": "markdown",
   "id": "40ab0f5d",
   "metadata": {},
   "source": [
    "# 20240718 Module1_Day3\n",
    "\n",
    "## List, Tuple, Set, Dictionary"
   ]
  },
  {
   "cell_type": "markdown",
   "id": "ac9a7eb3",
   "metadata": {},
   "source": [
    "## List 리스트\n",
    "\n",
    "- 항목들을 저장하는 컨테이너\n",
    "- 그 안에 항목들이 순서를 가지고 저장된다."
   ]
  },
  {
   "cell_type": "code",
   "execution_count": 2,
   "id": "3dcf9a27",
   "metadata": {},
   "outputs": [
    {
     "data": {
      "text/plain": [
       "33"
      ]
     },
     "execution_count": 2,
     "metadata": {},
     "output_type": "execute_result"
    }
   ],
   "source": [
    "# 리스트 지정하기\n",
    "temp = [28, 31, 33, 35, 27, 26, 25]\n",
    "tue = temp[2] \n",
    "tue"
   ]
  },
  {
   "cell_type": "code",
   "execution_count": 3,
   "id": "d3954ccd",
   "metadata": {},
   "outputs": [
    {
     "data": {
      "text/plain": [
       "36"
      ]
     },
     "execution_count": 3,
     "metadata": {},
     "output_type": "execute_result"
    }
   ],
   "source": [
    "# 리스트 값 변경하가 \n",
    "temp[3] = 36\n",
    "temp[3]"
   ]
  },
  {
   "cell_type": "code",
   "execution_count": 8,
   "id": "83d889a8",
   "metadata": {},
   "outputs": [
    {
     "name": "stdout",
     "output_type": "stream",
     "text": [
      "28, 31, 33, 35, 27, 26, 25, "
     ]
    }
   ],
   "source": [
    "# 리스트 방문하기 with for loop\n",
    "temps =[28,31,33,35,27,26,25]\n",
    "for day in range(len(temps)): ## range(0,7)이니깐 0부터 6까지임\n",
    "    print(temps[day], end = ', ') ## end 의미: 한 줄로 찍어라"
   ]
  },
  {
   "cell_type": "code",
   "execution_count": 14,
   "id": "2583eb1f",
   "metadata": {},
   "outputs": [
    {
     "name": "stdout",
     "output_type": "stream",
     "text": [
      "What's your name? It's Kim\n",
      "What's your quest? It's 파이썬\n",
      "What's your color? It's blue\n"
     ]
    }
   ],
   "source": [
    "# zip(): 순회가능한 객체 복수지정 (2개 이상)\n",
    "questions = [\"name\", \"quest\", \"color\"]\n",
    "answers = ['Kim', '파이썬', 'blue']\n",
    "for q,a in zip(questions, answers):\n",
    "    print(f\"What's your {q}? It's {a}\")"
   ]
  },
  {
   "cell_type": "code",
   "execution_count": 15,
   "id": "f91c25d4",
   "metadata": {},
   "outputs": [
    {
     "data": {
      "text/plain": [
       "['아이언맨', '토르']"
      ]
     },
     "execution_count": 15,
     "metadata": {},
     "output_type": "execute_result"
    }
   ],
   "source": [
    "# 리스트 메서드: append() => 리스트에 요소 맨 뒤에 추가하기\n",
    "heroes = []\n",
    "heroes.append(\"아이언맨\")\n",
    "heroes.append(\"토르\")\n",
    "heroes"
   ]
  },
  {
   "cell_type": "code",
   "execution_count": 17,
   "id": "ab11edc3",
   "metadata": {},
   "outputs": [
    {
     "name": "stdout",
     "output_type": "stream",
     "text": [
      "['아이언맨', '토르', '헐크']\n",
      "['아이언맨', '스파이더맨', '토르', '헐크']\n"
     ]
    }
   ],
   "source": [
    "# 리스트 메서드: insert() => 인덱스 값을 지정해서 그 위치에 요소를 삽입\n",
    "heroes = [\"아이언맨\", \"토르\", \"헐크\"]\n",
    "print(heroes)\n",
    "heroes.insert(1,\"스파이더맨\")\n",
    "print(heroes)"
   ]
  },
  {
   "cell_type": "code",
   "execution_count": 32,
   "id": "6966dbc3",
   "metadata": {},
   "outputs": [
    {
     "name": "stdout",
     "output_type": "stream",
     "text": [
      "2\n",
      "4\n"
     ]
    }
   ],
   "source": [
    "# 리스트 메서드: index() => 인덱스 값 찾기: 가장 앞에 있는 것 (중복일 경우)\n",
    "heroes = [\"아이언맨\", \"토르\", \"헐크\", \"스칼렛 위치\", \"헐크\"]\n",
    "print(heroes.index(\"헐크\"))\n",
    "n = heroes.index(\"헐크\", 4) # 인덱스 값이 4 이후인 위치부터 \"헐크\" 찾아나가기\n",
    "print(n)"
   ]
  },
  {
   "cell_type": "code",
   "execution_count": 34,
   "id": "84fd37ff",
   "metadata": {},
   "outputs": [
    {
     "name": "stdout",
     "output_type": "stream",
     "text": [
      "['아이언맨', '헐크']\n",
      "['아이언맨']\n"
     ]
    }
   ],
   "source": [
    "# 리스트 메서드: pop()=> 리스트 요소로 삭제, remove => 리스트 값으로 찾기\n",
    "heroes.pop(1)\n",
    "print(heroes)\n",
    "heroes.remove(\"헐크\")\n",
    "print(heroes) "
   ]
  },
  {
   "cell_type": "code",
   "execution_count": 35,
   "id": "e3087943",
   "metadata": {},
   "outputs": [
    {
     "name": "stdout",
     "output_type": "stream",
     "text": [
      "1\n",
      "10\n"
     ]
    }
   ],
   "source": [
    "# 리스트 최대값, 최솟값 찾기\n",
    "values = [1,2,3,4,5,6,7,8,9,10]\n",
    "print(min(values))\n",
    "print(max(values))"
   ]
  },
  {
   "cell_type": "code",
   "execution_count": 38,
   "id": "d3b86636",
   "metadata": {},
   "outputs": [
    {
     "data": {
      "text/plain": [
       "[1, 2, 3, 4, 5]"
      ]
     },
     "execution_count": 38,
     "metadata": {},
     "output_type": "execute_result"
    }
   ],
   "source": [
    "# 리스트 정렬 메소드: sort()\n",
    "a = [3, 2, 1, 5, 4]\n",
    "a.sort()\n",
    "a"
   ]
  },
  {
   "cell_type": "code",
   "execution_count": 39,
   "id": "8a35ed17",
   "metadata": {},
   "outputs": [
    {
     "data": {
      "text/plain": [
       "[5, 4, 3, 2, 1]"
      ]
     },
     "execution_count": 39,
     "metadata": {},
     "output_type": "execute_result"
    }
   ],
   "source": [
    "# 리스트 정렬 reverse \n",
    "b = [1,4,5,2,3]\n",
    "b.sort(reverse = True)\n",
    "b"
   ]
  },
  {
   "cell_type": "code",
   "execution_count": 42,
   "id": "87461d48",
   "metadata": {},
   "outputs": [
    {
     "data": {
      "text/plain": [
       "[1, 2, 3, 4, 5, 6, 7, 8, 9, 10]"
      ]
     },
     "execution_count": 42,
     "metadata": {},
     "output_type": "execute_result"
    }
   ],
   "source": [
    "# 원래 데이터 바뀌는 것 없이 리스트 정렬해보기 \n",
    "numbers =[10,3,7,1,9,4,2,8,5,6]\n",
    "\n",
    "ascending_numbers = sorted(numbers)\n",
    "ascending_numbers"
   ]
  },
  {
   "cell_type": "code",
   "execution_count": 44,
   "id": "b23e9d94",
   "metadata": {},
   "outputs": [
    {
     "name": "stdout",
     "output_type": "stream",
     "text": [
      "랜덤하게 선택된 항목: 8\n"
     ]
    }
   ],
   "source": [
    "# 리스트에서 랜덤으로 선택하기\n",
    "import random\n",
    "\n",
    "number_list = [1,2,3,4,5,6,7,8,9,10]\n",
    "print(f\"랜덤하게 선택된 항목: {random.choice(number_list)}\")"
   ]
  },
  {
   "cell_type": "code",
   "execution_count": 46,
   "id": "17ae0720",
   "metadata": {},
   "outputs": [
    {
     "name": "stdout",
     "output_type": "stream",
     "text": [
      "['아이언맨', '토르', '헐크', '스칼렛 위치']\n"
     ]
    },
    {
     "data": {
      "text/plain": [
       "[1, 2, 3, 1, 2, 3, 1, 2, 3]"
      ]
     },
     "execution_count": 46,
     "metadata": {},
     "output_type": "execute_result"
    }
   ],
   "source": [
    "# 리스트 합병, 복제\n",
    "heroes1 = [\"아이언맨\", \"토르\"]\n",
    "heroes2 = [\"헐크\", \"스칼렛 위치\"]\n",
    "avengers = heroes1 + heroes2\n",
    "print(avengers)\n",
    "numbers = [1,2,3]\n",
    "numbers * 3"
   ]
  },
  {
   "cell_type": "code",
   "execution_count": 47,
   "id": "1aee7b5c",
   "metadata": {},
   "outputs": [
    {
     "data": {
      "text/plain": [
       "[30, 40, 50, 60, 70]"
      ]
     },
     "execution_count": 47,
     "metadata": {},
     "output_type": "execute_result"
    }
   ],
   "source": [
    "# 리스트 슬라이싱 (시작은 포함, 끝나는 부분은 포함x)\n",
    "numbers = [10, 20, 30, 40, 50, 60, 70, 80, 90]\n",
    "numbers[2:7]"
   ]
  },
  {
   "cell_type": "code",
   "execution_count": 49,
   "id": "155bc5f6",
   "metadata": {},
   "outputs": [
    {
     "data": {
      "text/plain": [
       "[30, 50, 70]"
      ]
     },
     "execution_count": 49,
     "metadata": {},
     "output_type": "execute_result"
    }
   ],
   "source": [
    "# 슬라이싱 컬럼 두 개\n",
    "numbers[2:7:2] "
   ]
  },
  {
   "cell_type": "code",
   "execution_count": 53,
   "id": "2f6d43f7",
   "metadata": {},
   "outputs": [
    {
     "name": "stdout",
     "output_type": "stream",
     "text": [
      "[90, 80, 70, 60, 50, 40, 30, 20, 10]\n",
      "[90, 70, 50, 30, 10]\n"
     ]
    }
   ],
   "source": [
    "numbers = [ 10, 20, 30, 40, 50, 60, 70, 80, 90 ]\n",
    "print(numbers[: : -1])\n",
    "print(numbers[: : -2])"
   ]
  },
  {
   "cell_type": "code",
   "execution_count": 57,
   "id": "39e61801",
   "metadata": {},
   "outputs": [
    {
     "name": "stdout",
     "output_type": "stream",
     "text": [
      "M\n",
      "Pyth\n",
      "Monty Python\n"
     ]
    }
   ],
   "source": [
    "s = \"Monty Python\"\n",
    "print(s[0])\n",
    "print(s[6:10])\n",
    "print(s)"
   ]
  },
  {
   "cell_type": "code",
   "execution_count": 61,
   "id": "b0f4e50f",
   "metadata": {},
   "outputs": [
    {
     "data": {
      "text/plain": [
       "[99, 2, 3, 4, 5]"
      ]
     },
     "execution_count": 61,
     "metadata": {},
     "output_type": "execute_result"
    }
   ],
   "source": [
    "# 리스트가 함수로 전달되면\n",
    "def func2(list):\n",
    "    list[0] = 99\n",
    "\n",
    "numbers = [1,2,3,4,5]\n",
    "func2(numbers)\n",
    "numbers"
   ]
  },
  {
   "attachments": {
    "image.png": {
     "image/png": "[encoded data removed]"
    }
   },
   "cell_type": "markdown",
   "id": "e54228d0",
   "metadata": {},
   "source": [
    "![image.png](attachment:image.png)"
   ]
  },
  {
   "cell_type": "code",
   "execution_count": 63,
   "id": "39ad8e60",
   "metadata": {},
   "outputs": [
    {
     "data": {
      "text/plain": [
       "[0, 1, 4, 9, 16, 25, 36, 49, 64, 81]"
      ]
     },
     "execution_count": 63,
     "metadata": {},
     "output_type": "execute_result"
    }
   ],
   "source": [
    "squares = []\n",
    "for x in range(10):\n",
    "    squares.append(x*x)\n",
    "squares    "
   ]
  },
  {
   "cell_type": "code",
   "execution_count": 64,
   "id": "fcc5fa6b",
   "metadata": {},
   "outputs": [
    {
     "name": "stdout",
     "output_type": "stream",
     "text": [
      "s = [[0, 0, 0, 0, 0]]\n",
      "s = [[0, 0, 0, 0, 0], [0, 0, 0, 0, 0]]\n",
      "s = [[0, 0, 0, 0, 0], [0, 0, 0, 0, 0], [0, 0, 0, 0, 0]]\n"
     ]
    }
   ],
   "source": [
    "# 동적으로 2차원 리스트를 생성한다.\n",
    "rows = 3\n",
    "cols = 5\n",
    "s = [ ]\n",
    "for row in range(rows):\n",
    "    s += [[0]*cols] # 2차원 리스트끼리 합쳐진다.\n",
    "    print(\"s =\", s)"
   ]
  },
  {
   "cell_type": "code",
   "execution_count": 65,
   "id": "6a7d9dcc",
   "metadata": {},
   "outputs": [
    {
     "name": "stdout",
     "output_type": "stream",
     "text": [
      "s = [0, 0, 0, 0, 0]\n",
      "s = [0, 0, 0, 0, 0, 0, 0, 0, 0, 0]\n",
      "s = [0, 0, 0, 0, 0, 0, 0, 0, 0, 0, 0, 0, 0, 0, 0]\n"
     ]
    }
   ],
   "source": [
    "# 동적으로 2차원 리스트를 생성한다.\n",
    "rows = 3\n",
    "cols = 5\n",
    "s = [ ]\n",
    "for row in range(rows):\n",
    "    s += [0]*cols \n",
    "    print(\"s =\", s)"
   ]
  },
  {
   "cell_type": "code",
   "execution_count": 66,
   "id": "bfc0001d",
   "metadata": {},
   "outputs": [
    {
     "name": "stdout",
     "output_type": "stream",
     "text": [
      "s = [[0, 0, 0, 0, 0], [0, 0, 0, 0, 0], [0, 0, 0, 0, 0]]\n"
     ]
    }
   ],
   "source": [
    "rows = 3\n",
    "cols = 5\n",
    "s = [ ([0] * cols) for row in range(rows) ]\n",
    "print(\"s =\", s)"
   ]
  },
  {
   "cell_type": "code",
   "execution_count": 72,
   "id": "4efcceec",
   "metadata": {},
   "outputs": [
    {
     "name": "stdout",
     "output_type": "stream",
     "text": [
      "1,2,3,4,5,\n",
      "6,7,8,9,10,\n",
      "11,12,13,14,15,\n"
     ]
    }
   ],
   "source": [
    "s = [ [ 1, 2, 3, 4, 5 ] ,\n",
    "[ 6, 7, 8, 9, 10 ],\n",
    "[11, 12, 13, 14, 15 ] ]\n",
    "# 행과 열의 개수를 구한다.\n",
    "rows = len(s)\n",
    "cols = len(s[0])\n",
    "for r in range(rows):\n",
    "    for c in range(cols):\n",
    "        print(s[r][c], end=\",\")\n",
    "    print()"
   ]
  },
  {
   "cell_type": "code",
   "execution_count": 78,
   "id": "d98d6100",
   "metadata": {},
   "outputs": [
    {
     "name": "stdout",
     "output_type": "stream",
     "text": [
      "[[2, 3, 4, 5], [2, 3, 4, 5], [2, 3, 4, 5], [2, 3, 4, 5], [2, 3, 4, 5], [2, 3, 4, 5]]\n"
     ]
    }
   ],
   "source": [
    "matrix = [[i for i in range(2, 6)] for _ in range(6)]\n",
    "print(matrix)"
   ]
  },
  {
   "cell_type": "code",
   "execution_count": 75,
   "id": "3793eb5f",
   "metadata": {},
   "outputs": [
    {
     "name": "stdout",
     "output_type": "stream",
     "text": [
      "[0, 0, 0, 1, 1, 1, 2, 2, 2]\n"
     ]
    }
   ],
   "source": [
    "matrix = [ [0, 0, 0], [1, 1, 1], [2, 2, 2] ]\n",
    "result = [num for row in matrix for num in row]\n",
    "print(result)"
   ]
  },
  {
   "cell_type": "code",
   "execution_count": 81,
   "id": "02be47cd",
   "metadata": {},
   "outputs": [
    {
     "name": "stdout",
     "output_type": "stream",
     "text": [
      "0 _ 0 _ 0 _ 0 _ 0 _ \n",
      "_ 0 _ 0 _ 0 _ 0 _ 0 \n",
      "0 _ 0 _ 0 _ 0 _ 0 _ \n",
      "_ 0 _ 0 _ 0 _ 0 _ 0 \n",
      "0 _ 0 _ 0 _ 0 _ 0 _ \n",
      "_ 0 _ 0 _ 0 _ 0 _ 0 \n",
      "0 _ 0 _ 0 _ 0 _ 0 _ \n",
      "_ 0 _ 0 _ 0 _ 0 _ 0 \n",
      "0 _ 0 _ 0 _ 0 _ 0 _ \n",
      "_ 0 _ 0 _ 0 _ 0 _ 0 \n"
     ]
    }
   ],
   "source": [
    "table = [ ]\n",
    "\n",
    "# 2차원 리스트를 화면에 출력한다.\n",
    "def printList(mylist):\n",
    "    for row in range(len(mylist)):\n",
    "        for col in range(len(mylist[0])):\n",
    "            print(mylist[row][col], end=\" \")\n",
    "        print()\n",
    "        \n",
    "# 2차원 리스트를 체커보드 형태로 초기화한다.\n",
    "def init(mylist):\n",
    "    for row in range(len(mylist)):\n",
    "        for col in range(len(mylist[0])):\n",
    "            if (row+col)%2 == 0:\n",
    "                table[row][col] = '0'\n",
    "                \n",
    "# 2차원 리스트를 생성한다.\n",
    "for row in range(10):\n",
    "    table += [['_']*10]\n",
    "init(table)\n",
    "printList(table)"
   ]
  }
 ],
 "metadata": {
  "kernelspec": {
   "display_name": "Python 3 (ipykernel)",
   "language": "python",
   "name": "python3"
  },
  "language_info": {
   "codemirror_mode": {
    "name": "ipython",
    "version": 3
   },
   "file_extension": ".py",
   "mimetype": "text/x-python",
   "name": "python",
   "nbconvert_exporter": "python",
   "pygments_lexer": "ipython3",
   "version": "3.11.3"
  }
 },
 "nbformat": 4,
 "nbformat_minor": 5
}
