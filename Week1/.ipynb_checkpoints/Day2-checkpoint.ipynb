{
 "cells": [
  {
   "cell_type": "markdown",
   "id": "edb76064",
   "metadata": {},
   "source": [
    "# 20240716 \n",
    "\n",
    "## Day2_Function, Module, Class, Object"
   ]
  },
  {
   "cell_type": "markdown",
   "id": "ebc82c5d",
   "metadata": {},
   "source": [
    "## Function"
   ]
  },
  {
   "cell_type": "markdown",
   "id": "8f9a4cd0",
   "metadata": {},
   "source": [
    "### 코드를묶는방법\n",
    "\n",
    " - 관련있는 코드들을 묶어서 전체 프로그램을 조직화할 필요가 있다.\n",
    "\n",
    "\n",
    "1. 함수(function)는 우리가 반복적으로 사용하는 코드를 묶은 것으로, 프로그램의 빌딩 블록과 같다.\n",
    "2. 객체(object)는 서로 관련있는 변수와 함수를 묶는 방법이다.\n",
    "3. 모듈(module)은 함수나 객체들을 소스파일 안에 모은 것이다."
   ]
  },
  {
   "cell_type": "code",
   "execution_count": 6,
   "id": "78f2ceaf",
   "metadata": {},
   "outputs": [
    {
     "name": "stdout",
     "output_type": "stream",
     "text": [
      "반지름의 길이가 3인 원의 면적 =  28.26\n"
     ]
    }
   ],
   "source": [
    "# 함수 만들어보기 (원 면적)\n",
    "def getArea(radius):\n",
    "    area = radius ** 2 * 3.14\n",
    "    return area\n",
    "\n",
    "result = getArea(3)\n",
    "print(\"반지름의 길이가 3인 원의 면적 = \", result)"
   ]
  },
  {
   "cell_type": "code",
   "execution_count": 8,
   "id": "a576d77a",
   "metadata": {},
   "outputs": [
    {
     "ename": "NameError",
     "evalue": "name 'getArea2' is not defined",
     "output_type": "error",
     "traceback": [
      "\u001b[1;31m---------------------------------------------------------------------------\u001b[0m",
      "\u001b[1;31mNameError\u001b[0m                                 Traceback (most recent call last)",
      "Cell \u001b[1;32mIn[8], line 2\u001b[0m\n\u001b[0;32m      1\u001b[0m \u001b[38;5;66;03m# 순서 바꿔보기 \u001b[39;00m\n\u001b[1;32m----> 2\u001b[0m result \u001b[38;5;241m=\u001b[39m getArea2(\u001b[38;5;241m3\u001b[39m)\n\u001b[0;32m      3\u001b[0m \u001b[38;5;28mprint\u001b[39m(\u001b[38;5;124m\"\u001b[39m\u001b[38;5;124m반지름의 길이가 3인 원의 면적 = \u001b[39m\u001b[38;5;124m\"\u001b[39m, result)\n\u001b[0;32m      5\u001b[0m \u001b[38;5;28;01mdef\u001b[39;00m \u001b[38;5;21mgetArea2\u001b[39m(radius):\n",
      "\u001b[1;31mNameError\u001b[0m: name 'getArea2' is not defined"
     ]
    }
   ],
   "source": [
    "# 순서 바꿔보기 (함수를 먼저 정의해야 함)\n",
    "result = getArea2(3)\n",
    "print(\"반지름의 길이가 3인 원의 면적 = \", result)\n",
    "\n",
    "def getArea2(radius):\n",
    "    area = radius ** 2 * 3.14\n",
    "    return area"
   ]
  },
  {
   "cell_type": "code",
   "execution_count": 9,
   "id": "2030a12b",
   "metadata": {},
   "outputs": [
    {
     "name": "stdout",
     "output_type": "stream",
     "text": [
      "반지름의 길이가 3인 원의 면적 =  28.26\n"
     ]
    }
   ],
   "source": [
    "def main():\n",
    "    result = getArea3(3)\n",
    "    print(\"반지름의 길이가 3인 원의 면적 = \", result)\n",
    "\n",
    "def getArea3(radius):\n",
    "    area = radius ** 2 * 3.14\n",
    "    return area\n",
    "\n",
    "main()"
   ]
  },
  {
   "cell_type": "code",
   "execution_count": 18,
   "id": "9530969a",
   "metadata": {
    "scrolled": true
   },
   "outputs": [
    {
     "name": "stdout",
     "output_type": "stream",
     "text": [
      "안녕 민재 뭐해?\n"
     ]
    }
   ],
   "source": [
    "def greet(name = \"시립대\", msg = \", 별일없죠?\"):\n",
    "    print(\"안녕\", name, msg)\n",
    "greet(msg = \"뭐해?\", name = \"민재\")    "
   ]
  },
  {
   "cell_type": "code",
   "execution_count": 24,
   "id": "a9442b82",
   "metadata": {},
   "outputs": [
    {
     "name": "stdout",
     "output_type": "stream",
     "text": [
      "x = 10, y = 20, z = 30\n"
     ]
    }
   ],
   "source": [
    "# Keyword argument\n",
    "def sub(x,y,z):\n",
    "    print(f\"x = {x}, y = {y}, z = {z}\")\n",
    "sub(10, 20, z = 30)"
   ]
  },
  {
   "cell_type": "code",
   "execution_count": 28,
   "id": "3c30c12f",
   "metadata": {},
   "outputs": [
    {
     "data": {
      "text/plain": [
       "55"
      ]
     },
     "execution_count": 28,
     "metadata": {},
     "output_type": "execute_result"
    }
   ],
   "source": [
    "def sumAll(data):\n",
    "    total = 0\n",
    "    for num in data:\n",
    "        total += num\n",
    "    return total\n",
    "\n",
    "sumAll([1,2,3,4,5,6,7,8,9,10]) ## 리스트 입력\n",
    "sumAll((1,2,3,4,5,6,7,8,9,10)) ## 튜플 입력\n",
    "sumAll(range(1, 11)) ## 1부터 10까지의 range입력"
   ]
  },
  {
   "cell_type": "code",
   "execution_count": 33,
   "id": "05d7a51f",
   "metadata": {},
   "outputs": [
    {
     "name": "stdout",
     "output_type": "stream",
     "text": [
      "입력된 변수의 개수: 10개\n",
      "(1, 2, 3, 4, 5, 6, 7, 8, 9, 10)\n"
     ]
    }
   ],
   "source": [
    "# 가변인수\n",
    "def varfunc(*args):\n",
    "    num = len(args)\n",
    "    print(f\"입력된 변수의 개수: {num}개\")\n",
    "    print(args)\n",
    "varfunc(1,2,3,4,5,6,7,8,9,10)    "
   ]
  },
  {
   "cell_type": "code",
   "execution_count": 34,
   "id": "56ddaff0",
   "metadata": {},
   "outputs": [
    {
     "data": {
      "text/plain": [
       "55"
      ]
     },
     "execution_count": 34,
     "metadata": {},
     "output_type": "execute_result"
    }
   ],
   "source": [
    "def add(*numbers):\n",
    "    num = len(numbers)\n",
    "    sum = 0\n",
    "    for i in numbers:\n",
    "        sum += i\n",
    "    return sum\n",
    "\n",
    "add(1,2,3,4,5,6,7,8,9,10)"
   ]
  },
  {
   "cell_type": "code",
   "execution_count": 38,
   "id": "ebc22474",
   "metadata": {},
   "outputs": [
    {
     "data": {
      "text/plain": [
       "314.0"
      ]
     },
     "execution_count": 38,
     "metadata": {},
     "output_type": "execute_result"
    }
   ],
   "source": [
    "def getArea4(radius):\n",
    "    if radius > 0:\n",
    "        area = radius ** 2 * 3.14\n",
    "        return area\n",
    "    else:\n",
    "        print(\"반지름의 길이는 양수로 해야 함\")\n",
    "        \n",
    "getArea4(10)"
   ]
  },
  {
   "cell_type": "code",
   "execution_count": 41,
   "id": "393fe172",
   "metadata": {},
   "outputs": [
    {
     "name": "stdout",
     "output_type": "stream",
     "text": [
      "정수를 입력해주세요: 5\n",
      "5! = 120\n"
     ]
    }
   ],
   "source": [
    "# Recursion\n",
    "\n",
    "def factorial(num):\n",
    "    if num == 1:\n",
    "        return 1\n",
    "    else:\n",
    "        return num * factorial(num-1)\n",
    "    \n",
    "num = int(input(\"정수를 입력해주세요: \"))\n",
    "print(f\"{num}! = {factorial(num)}\")"
   ]
  },
  {
   "cell_type": "code",
   "execution_count": 3,
   "id": "14640b41",
   "metadata": {},
   "outputs": [
    {
     "name": "stdout",
     "output_type": "stream",
     "text": [
      "x + y = 8, x - y = 2\n"
     ]
    }
   ],
   "source": [
    "def addSub(x, y):\n",
    "    print(f\"x + y = {x + y}, x - y = {x - y}\")\n",
    "\n",
    "addSub(5,3)"
   ]
  },
  {
   "cell_type": "markdown",
   "id": "79f9115a",
   "metadata": {},
   "source": [
    "## Introduction to Object Oriented Programming (OOP)\n",
    "\n",
    "### 객체 지향 프로그래밍\n",
    "- 서로 관련있는 데이터와 함수를 묶어서 객체를 만들고, 이 객체들이 모여서 **프로그램**이 된다.\n",
    "- Class: 변수(필드), 함수(메소드)\n",
    "\n",
    "### 클래스 (Class)\n",
    "- 객체에 대한 설계도\n",
    "- 특정한 종류의 객체들을 찍어내는 template\n",
    "- 클래스로부터 만들어지는 객체를 그 클래스의 인스턴스라고 부른다."
   ]
  },
  {
   "cell_type": "code",
   "execution_count": 4,
   "id": "7e6498a1",
   "metadata": {},
   "outputs": [
    {
     "data": {
      "text/plain": [
       "'LIFE IS SHORT, YOU NEED PYTHON.'"
      ]
     },
     "execution_count": 4,
     "metadata": {},
     "output_type": "execute_result"
    }
   ],
   "source": [
    "\"Life is short, You need Python.\".upper()"
   ]
  },
  {
   "cell_type": "code",
   "execution_count": 5,
   "id": "1ffbdcb3",
   "metadata": {},
   "outputs": [],
   "source": [
    "class Counter:\n",
    "    def __init__(self):\n",
    "        self.count = 0\n",
    "    def increment(self):\n",
    "        self.count += 1"
   ]
  },
  {
   "cell_type": "code",
   "execution_count": 23,
   "id": "ef6865db",
   "metadata": {},
   "outputs": [
    {
     "name": "stdout",
     "output_type": "stream",
     "text": [
      "김민재 만 나이 =  24\n",
      "kim's name =  김민재\n",
      "kim's MBTI:  ISTP\n"
     ]
    }
   ],
   "source": [
    "class Student:\n",
    "    def __init__(self, name = None, age = 0):\n",
    "        self.__name = name\n",
    "        self.__age = age\n",
    "    def incrementAge(self):\n",
    "        self.__age  += 1\n",
    "        return self.__age\n",
    "    def printName(self):\n",
    "        return self.__name\n",
    "    def printMBTI(self):\n",
    "        return \"ISTP\"\n",
    "    \n",
    "kim = Student(\"김민재\", 24)\n",
    "print(\"김민재 만 나이 = \", kim.incrementAge()-1)\n",
    "print(\"kim's name = \", kim.printName())\n",
    "print(\"kim's MBTI: \", kim.printMBTI())"
   ]
  },
  {
   "cell_type": "code",
   "execution_count": 34,
   "id": "b4ccef49",
   "metadata": {},
   "outputs": [
    {
     "name": "stdout",
     "output_type": "stream",
     "text": [
      "ahn's name:  안영아\n",
      "friend's name:  김민재\n"
     ]
    }
   ],
   "source": [
    "class Student2:\n",
    "    def __init__(self, name = None, age = 0):\n",
    "        self.__name = name\n",
    "        self.__age = age\n",
    "    def getName(self):\n",
    "        return self.__name\n",
    "    def getAge(self):\n",
    "        return self.__age\n",
    "    def setAge(self, age):\n",
    "        self.__age = age\n",
    "    def setName(self, name):\n",
    "        self.__name = name\n",
    "        \n",
    "ahn = Student2(\"안영아\", 20)\n",
    "friend = Student2()\n",
    "friend.setName(\"김민재\")\n",
    "friend.setAge(26)\n",
    "\n",
    "print(\"ahn's name: \", ahn.getName())\n",
    "print(\"friend's name: \", friend.getName())"
   ]
  },
  {
   "cell_type": "code",
   "execution_count": 47,
   "id": "89fa921c",
   "metadata": {},
   "outputs": [
    {
     "name": "stdout",
     "output_type": "stream",
     "text": [
      "11 10 True 1\n",
      "myTV 시리얼번호 =  1\n",
      "youTV 시리얼번호 =  2\n",
      "Television object 개수 =  2\n"
     ]
    }
   ],
   "source": [
    "# 텔레비전을 클래스로 정의한다.\n",
    "class Television:\n",
    "    serialNumber = 0 # 이것이 클래스 변수이다.\n",
    "    def __init__(self, channel, volume, on):\n",
    "        self.channel = channel\n",
    "        self.volume = volume\n",
    "        self.on = on\n",
    "        Television.serialNumber += 1 # 클래스 변수를 하나 증가한다.\n",
    "        # 클래스 변수의 값을 객체의 시리얼 번호로 한다.\n",
    "        self.number = Television.serialNumber\n",
    "    def show(self):\n",
    "        print(self.channel, self.volume, self.on, self.number)\n",
    "        \n",
    "myTV = Television(11, 10, True)\n",
    "youTV = Television(channel = 200, volume = 30, on = True)\n",
    "myTV.show()\n",
    "\n",
    "print(\"myTV 시리얼번호 = \", myTV.number)\n",
    "print(\"youTV 시리얼번호 = \", youTV.number)\n",
    "print(\"Television object 개수 = \", Television.serialNumber)"
   ]
  },
  {
   "cell_type": "markdown",
   "id": "b126c1ec",
   "metadata": {},
   "source": [
    "## Module \n",
    "\n",
    "### 함수나 변수, 클래스들을 모아놓은 파일이다. "
   ]
  }
 ],
 "metadata": {
  "kernelspec": {
   "display_name": "Python 3 (ipykernel)",
   "language": "python",
   "name": "python3"
  },
  "language_info": {
   "codemirror_mode": {
    "name": "ipython",
    "version": 3
   },
   "file_extension": ".py",
   "mimetype": "text/x-python",
   "name": "python",
   "nbconvert_exporter": "python",
   "pygments_lexer": "ipython3",
   "version": "3.11.3"
  }
 },
 "nbformat": 4,
 "nbformat_minor": 5
}
