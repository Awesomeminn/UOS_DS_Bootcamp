{
 "cells": [
  {
   "cell_type": "markdown",
   "id": "83e97734",
   "metadata": {},
   "source": [
    "# Module1 Day1,2 복습\n",
    "\n",
    "## 복습할 내용\n",
    "- 실수 자료형 처리\n",
    "- 함수\n",
    "- 클래스, 객체"
   ]
  },
  {
   "cell_type": "markdown",
   "id": "d1f6c8fd",
   "metadata": {},
   "source": [
    "## 실수 자료형 처리하기 (float)"
   ]
  },
  {
   "cell_type": "code",
   "execution_count": 6,
   "id": "6433ee9b",
   "metadata": {},
   "outputs": [
    {
     "name": "stdout",
     "output_type": "stream",
     "text": [
      "첫 번째 정수를 입력하셈4\n",
      "두 번째 정수를 입력하셈3\n",
      "x와 y의 합은 7.0\n",
      "x와 y의 차는 1.0\n",
      "x와 y의 곱은 12.0\n",
      "x를 y로 나누면  1.33\n"
     ]
    }
   ],
   "source": [
    "# 변수랑 문자열을 동시에 출력하기 \n",
    "x = float(input(\"첫 번째 정수를 입력하셈\"))\n",
    "y = float(input(\"두 번째 정수를 입력하셈\"))\n",
    "divid = x / y\n",
    "print(f\"x와 y의 합은 {x + y}\")\n",
    "print(f\"x와 y의 차는 {x - y}\")\n",
    "print(f\"x와 y의 곱은 {x * y}\")\n",
    "print(\"x를 y로 나누면 \", \"%.2f\" % divid)"
   ]
  },
  {
   "cell_type": "markdown",
   "id": "b213209c",
   "metadata": {},
   "source": [
    "## 함수 (Function)\n",
    "\n",
    "### For reuse!"
   ]
  },
  {
   "cell_type": "code",
   "execution_count": 11,
   "id": "03cbe8ea",
   "metadata": {},
   "outputs": [
    {
     "name": "stdout",
     "output_type": "stream",
     "text": [
      "반지름의 길이가 11인 원의 넓이는 379.94\n"
     ]
    }
   ],
   "source": [
    "# 함수 정의하기 \n",
    "def getArea(radius):\n",
    "    area = radius ** 2 * 3.14\n",
    "    print(f\"반지름의 길이가 {radius}인 원의 넓이는 {area}\")\n",
    "getArea(11)"
   ]
  },
  {
   "cell_type": "code",
   "execution_count": 19,
   "id": "c327b984",
   "metadata": {},
   "outputs": [
    {
     "name": "stdout",
     "output_type": "stream",
     "text": [
      "a는 2, b는 3\n"
     ]
    }
   ],
   "source": [
    "# 값 여러 개 반환하기 \n",
    "def getInput():\n",
    "    return 2, 3\n",
    "a, b = getInput()\n",
    "print(f\"a는 {a}, b는 {b}\")"
   ]
  },
  {
   "cell_type": "code",
   "execution_count": 21,
   "id": "88b23d73",
   "metadata": {},
   "outputs": [
    {
     "name": "stdout",
     "output_type": "stream",
     "text": [
      "반지름의 길이가 3인 원의 넓이는  28.26\n"
     ]
    }
   ],
   "source": [
    "# 함수를 사전에 정의하지 않고 사용하면 오류뜨는데, 함수 안에서는 아직 정의되지 않은 함수를 호출할 수 있다.\n",
    "def main():\n",
    "    result1 = getArea2(3)\n",
    "    print(\"반지름의 길이가 3인 원의 넓이는 \", result1)\n",
    "\n",
    "def getArea2(radius):\n",
    "    area = 3.14 * (radius ** 2)\n",
    "    return area\n",
    "main()"
   ]
  },
  {
   "cell_type": "code",
   "execution_count": 29,
   "id": "723a4838",
   "metadata": {},
   "outputs": [
    {
     "name": "stdout",
     "output_type": "stream",
     "text": [
      "안녕 민재, 별일없죠?\n"
     ]
    }
   ],
   "source": [
    "# default argument: 함수의 매개변수가 기본값을 가질 수 있다.\n",
    "def greet(name, msg):\n",
    "    print(\"안녕 \" + name + msg)\n",
    "greet(msg = \", 별일없죠?\", name = \"민재\") ## 입력한 매개변수 순서 틀리면 이렇게 지정해주면 된다. (키워드 인수)"
   ]
  },
  {
   "cell_type": "code",
   "execution_count": 34,
   "id": "a2438bb9",
   "metadata": {},
   "outputs": [
    {
     "name": "stdout",
     "output_type": "stream",
     "text": [
      "x = 10, y = 20, z = 30\n"
     ]
    }
   ],
   "source": [
    "# 키워드 인수\n",
    "def sub(x, y, z):\n",
    "    print(f\"x = {x}, y = {y}, z = {z}\")\n",
    "sub(10 , 20, 30)"
   ]
  },
  {
   "cell_type": "code",
   "execution_count": 40,
   "id": "6b97e5b3",
   "metadata": {},
   "outputs": [
    {
     "name": "stdout",
     "output_type": "stream",
     "text": [
      "x = 10, y = 20, z = 30\n"
     ]
    }
   ],
   "source": [
    "sub(10 , y = 20 , z = 30) # 키워드 인수 지정할 때 컴퓨터에게 오해를 주지 않도록 하는 느낌으로다가 할 것"
   ]
  },
  {
   "cell_type": "code",
   "execution_count": 45,
   "id": "db317e5e",
   "metadata": {},
   "outputs": [
    {
     "data": {
      "text/plain": [
       "9"
      ]
     },
     "execution_count": 45,
     "metadata": {},
     "output_type": "execute_result"
    }
   ],
   "source": [
    "# 함수에 반복문 넣기\n",
    "def sum(data):\n",
    "    total = 0\n",
    "    for num in data:\n",
    "        total += num\n",
    "    return total\n",
    "sum({1,3,5}) # 이런 함수면 데이터를 set, tuple, list, range 이런 것들로 넣어야겠죠? (for 반복문)"
   ]
  },
  {
   "cell_type": "code",
   "execution_count": 48,
   "id": "9caf6e34",
   "metadata": {},
   "outputs": [
    {
     "name": "stdout",
     "output_type": "stream",
     "text": [
      "입력된 변수의 개수:  1개\n"
     ]
    }
   ],
   "source": [
    "# 함수에 가변인수도 넣을 수 있다. \n",
    "def varfunc(*args):\n",
    "    num = len(args)\n",
    "    print(\"입력된 변수의 개수: \", str(num)+\"개\")\n",
    "varfunc([1,4,6,3,2,1])    "
   ]
  },
  {
   "cell_type": "code",
   "execution_count": 53,
   "id": "e37409f4",
   "metadata": {},
   "outputs": [
    {
     "data": {
      "text/plain": [
       "55"
      ]
     },
     "execution_count": 53,
     "metadata": {},
     "output_type": "execute_result"
    }
   ],
   "source": [
    "# 가변인수를 활용하여 숫자를 다 더하는 함수를 만들고 정수 1부터 10까지의 합을 만들어보자.\n",
    "def addNum(*numbers):\n",
    "    totalSum = 0\n",
    "    for num in numbers:\n",
    "        totalSum += num\n",
    "    return totalSum\n",
    "addNum(*[1,2,3,4,5,6,7,8,9,10]) # 가변인수에서 리스트, 튜플 이런걸로 넣으려면 *표시 해야 함"
   ]
  },
  {
   "cell_type": "code",
   "execution_count": 55,
   "id": "a090b1e9",
   "metadata": {},
   "outputs": [
    {
     "data": {
      "text/plain": [
       "6"
      ]
     },
     "execution_count": 55,
     "metadata": {},
     "output_type": "execute_result"
    }
   ],
   "source": [
    "# Recursion\n",
    "def factorial(n):\n",
    "    if n == 1:\n",
    "        return int(1)\n",
    "    else:\n",
    "        return n * factorial(n-1) # 최종적으로 n이 1될 때 까지 else에서 순환하다가 1되면 int(1)\n",
    "factorial(3)"
   ]
  },
  {
   "cell_type": "markdown",
   "id": "ede97cd3",
   "metadata": {},
   "source": [
    "## 클래스 (Class)"
   ]
  },
  {
   "cell_type": "code",
   "execution_count": 58,
   "id": "c8b6fab6",
   "metadata": {},
   "outputs": [
    {
     "name": "stdout",
     "output_type": "stream",
     "text": [
      "3\n",
      "7\n"
     ]
    }
   ],
   "source": [
    "# 계산기1\n",
    "result = 0\n",
    "\n",
    "def add(num):\n",
    "    global result\n",
    "    result += num\n",
    "    return result\n",
    "print(add(3))\n",
    "print(add(4))"
   ]
  },
  {
   "cell_type": "code",
   "execution_count": 59,
   "id": "102e3883",
   "metadata": {},
   "outputs": [
    {
     "name": "stdout",
     "output_type": "stream",
     "text": [
      "3\n",
      "7\n",
      "5\n",
      "7\n"
     ]
    }
   ],
   "source": [
    "# 계산기2: 계산기 2개 만들기\n",
    "result1 = 0\n",
    "result2 = 0\n",
    "\n",
    "def add1(num):\n",
    "    global result1\n",
    "    result1 += num\n",
    "    return result1\n",
    "\n",
    "def add2(num):\n",
    "    global result2\n",
    "    result2 += num\n",
    "    return result2\n",
    "\n",
    "print(add1(3))\n",
    "print(add1(4))\n",
    "print(add2(5))\n",
    "print(add2(2))"
   ]
  },
  {
   "cell_type": "code",
   "execution_count": 64,
   "id": "e95e5bfe",
   "metadata": {},
   "outputs": [
    {
     "name": "stdout",
     "output_type": "stream",
     "text": [
      "3\n",
      "7\n",
      "4\n",
      "14\n",
      "3\n",
      "1\n"
     ]
    }
   ],
   "source": [
    "# 근데 이렇게 계산기가 2개까지는 하겠는데 10개 100개 이 지랄이면 이걸 하나하나 다 할 수 있을까??\n",
    "# 클래스를 통해 이 고생을 덜을 수 있을 것이다.\n",
    "\n",
    "class Calculator:\n",
    "    def __init__(self):\n",
    "        self.result = 0 ## self는 객체 자신을 의미함\n",
    "        \n",
    "    def add(self,num):\n",
    "        self.result += num\n",
    "        return self.result\n",
    "    \n",
    "    def sub(self, num):\n",
    "        self.result -= num\n",
    "        return self.result\n",
    "    \n",
    "cal1 = Calculator()\n",
    "cal2 = Calculator()\n",
    "cal3 = Calculator()\n",
    "\n",
    "print(cal1.add(3))\n",
    "print(cal1.add(4))\n",
    "print(cal2.add(4))\n",
    "print(cal2.add(10))\n",
    "print(cal3.add(3))\n",
    "print(cal3.sub(2))\n",
    "\n",
    "## 이렇게 하면 함수 하나만 만들어서 클래스에 집어넣고 새로운 객체만 계속 싸면 됨"
   ]
  },
  {
   "cell_type": "code",
   "execution_count": 67,
   "id": "4c0ee4fa",
   "metadata": {},
   "outputs": [],
   "source": [
    "# 사칙연산 클래스 만들기 (숫자 두 개를 받고, 더하기, 빼기, 곱하기, 나누기 메소드를 추가하기)\n",
    "class Fourcal:\n",
    "    pass\n",
    "\n",
    "a = Fourcal() ## a라는 객체는 Fourcal 클래스로 만들어진 인스턴스"
   ]
  },
  {
   "cell_type": "code",
   "execution_count": 76,
   "id": "7709ee3b",
   "metadata": {},
   "outputs": [
    {
     "name": "stdout",
     "output_type": "stream",
     "text": [
      "4\n",
      "2\n"
     ]
    }
   ],
   "source": [
    "## 객체에 연산할 숫자를 지정해보자.\n",
    "class Fourcal:\n",
    "    def setData(self, first, second):\n",
    "        self.first = first\n",
    "        self.second = second\n",
    "        \n",
    "a = Fourcal()\n",
    "a.setData(4, 2) ## 매개변수를 두 개만 쓰는 이유: self에는 호출한 객체 a가 자동으로 전달되기 때문이다.\n",
    "# Fourcal.setData(a, 4, 2)로 해도 되긴함 근데 잘 안쓰는 방법임\n",
    "\n",
    "print(a.first)\n",
    "print(a.second)"
   ]
  },
  {
   "cell_type": "code",
   "execution_count": 77,
   "id": "1ebdde1c",
   "metadata": {},
   "outputs": [
    {
     "name": "stdout",
     "output_type": "stream",
     "text": [
      "3\n",
      "5\n"
     ]
    }
   ],
   "source": [
    "## 객체를 하나 더 만들어보자.\n",
    "b = Fourcal()\n",
    "b.setData(3, 5)\n",
    "print(b.first)\n",
    "print(b.second)"
   ]
  },
  {
   "cell_type": "code",
   "execution_count": 80,
   "id": "774e7474",
   "metadata": {},
   "outputs": [
    {
     "data": {
      "text/plain": [
       "5"
      ]
     },
     "execution_count": 80,
     "metadata": {},
     "output_type": "execute_result"
    }
   ],
   "source": [
    "## 이제 두 숫자를 더해주는 기능을 추가해보자.\n",
    "class Fourcal:\n",
    "    def setData(self, first, second):\n",
    "        self.first = first\n",
    "        self.second = second\n",
    "        \n",
    "    def add(self):\n",
    "        result = self.first + self.second\n",
    "        return result\n",
    "    \n",
    "c = Fourcal()\n",
    "c.setData(3,2)\n",
    "c.add()"
   ]
  },
  {
   "cell_type": "code",
   "execution_count": 82,
   "id": "bc32b81c",
   "metadata": {},
   "outputs": [
    {
     "name": "stdout",
     "output_type": "stream",
     "text": [
      "11\n",
      "7\n",
      "18\n",
      "4.5\n"
     ]
    }
   ],
   "source": [
    "## 이런 방식으로 나머지 기능들을 다 추가해서 연산을 진행해보자.\n",
    "\n",
    "class FourCal:\n",
    "    def setData(self, first, second):\n",
    "        self.first = first\n",
    "        self.second = second\n",
    "    \n",
    "    def add(self):\n",
    "        result = self.first + self.second\n",
    "        return result\n",
    "    \n",
    "    def sub(self):\n",
    "        result = self.first - self.second\n",
    "        return result\n",
    "    \n",
    "    def mul(self):\n",
    "        result = self.first * self.second\n",
    "        return result\n",
    "    \n",
    "    def div(self):\n",
    "        result = self.first / self.second\n",
    "        return result\n",
    "    \n",
    "nums = FourCal()\n",
    "nums.setData(9,2)\n",
    "print(nums.add())\n",
    "print(nums.sub())\n",
    "print(nums.mul())\n",
    "print(nums.div())"
   ]
  },
  {
   "cell_type": "code",
   "execution_count": 85,
   "id": "6e148cc8",
   "metadata": {},
   "outputs": [
    {
     "ename": "AttributeError",
     "evalue": "'FourCal' object has no attribute 'first'",
     "output_type": "error",
     "traceback": [
      "\u001b[1;31m---------------------------------------------------------------------------\u001b[0m",
      "\u001b[1;31mAttributeError\u001b[0m                            Traceback (most recent call last)",
      "Cell \u001b[1;32mIn[85], line 2\u001b[0m\n\u001b[0;32m      1\u001b[0m nums2 \u001b[38;5;241m=\u001b[39m FourCal()\n\u001b[1;32m----> 2\u001b[0m nums2\u001b[38;5;241m.\u001b[39madd()\n",
      "Cell \u001b[1;32mIn[82], line 9\u001b[0m, in \u001b[0;36mFourCal.add\u001b[1;34m(self)\u001b[0m\n\u001b[0;32m      8\u001b[0m \u001b[38;5;28;01mdef\u001b[39;00m \u001b[38;5;21madd\u001b[39m(\u001b[38;5;28mself\u001b[39m):\n\u001b[1;32m----> 9\u001b[0m     result \u001b[38;5;241m=\u001b[39m \u001b[38;5;28mself\u001b[39m\u001b[38;5;241m.\u001b[39mfirst \u001b[38;5;241m+\u001b[39m \u001b[38;5;28mself\u001b[39m\u001b[38;5;241m.\u001b[39msecond\n\u001b[0;32m     10\u001b[0m     \u001b[38;5;28;01mreturn\u001b[39;00m result\n",
      "\u001b[1;31mAttributeError\u001b[0m: 'FourCal' object has no attribute 'first'"
     ]
    }
   ],
   "source": [
    "nums2 = FourCal()\n",
    "nums2.add()\n",
    "## 이러한 경우에는 setData를 먼저 수행해야 연산을 할 수 있음"
   ]
  },
  {
   "cell_type": "code",
   "execution_count": 103,
   "id": "d95d89f8",
   "metadata": {},
   "outputs": [],
   "source": [
    "class FourCal2:\n",
    "    def __init__(self,first,second):\n",
    "        self.first = first\n",
    "        self.second = second\n",
    "        \n",
    "    def setdata(self, first, second):\n",
    "        self.first = first\n",
    "        self.second = second\n",
    "    \n",
    "    def add(self):\n",
    "        result = self.first + self.second\n",
    "        return result\n",
    "    \n",
    "    def sub(self):\n",
    "        result = self.first - self.second\n",
    "        return result\n",
    "    \n",
    "    def mul(self):\n",
    "        result = self.first * self.second\n",
    "        return result\n",
    "    \n",
    "    def div(self):\n",
    "        result = self.first / self.second\n",
    "        return result"
   ]
  },
  {
   "cell_type": "code",
   "execution_count": 106,
   "id": "107cb6e3",
   "metadata": {},
   "outputs": [
    {
     "ename": "TypeError",
     "evalue": "FourCal2.__init__() missing 2 required positional arguments: 'first' and 'second'",
     "output_type": "error",
     "traceback": [
      "\u001b[1;31m---------------------------------------------------------------------------\u001b[0m",
      "\u001b[1;31mTypeError\u001b[0m                                 Traceback (most recent call last)",
      "Cell \u001b[1;32mIn[106], line 1\u001b[0m\n\u001b[1;32m----> 1\u001b[0m a \u001b[38;5;241m=\u001b[39m FourCal2()\n",
      "\u001b[1;31mTypeError\u001b[0m: FourCal2.__init__() missing 2 required positional arguments: 'first' and 'second'"
     ]
    }
   ],
   "source": [
    "a = FourCal2() ## __init__을 추가하면 first, second가 사전에 입력되지 않은 경우 오류를 출력함"
   ]
  },
  {
   "cell_type": "code",
   "execution_count": 111,
   "id": "3dbf9cab",
   "metadata": {},
   "outputs": [
    {
     "name": "stdout",
     "output_type": "stream",
     "text": [
      "4\n",
      "3\n"
     ]
    }
   ],
   "source": [
    "a = FourCal2(4,3)\n",
    "print(a.first)\n",
    "print(a.second)"
   ]
  },
  {
   "cell_type": "code",
   "execution_count": 117,
   "id": "19dee9a9",
   "metadata": {},
   "outputs": [],
   "source": [
    "# Inheritance (새로운 연산기능 추가하기)\n",
    "## 기존에 만들었던 FourCal2 클래스를 상속시켜보자.\n",
    "\n",
    "class MoreFourCal(FourCal2): ## 괄호를 사용하여 상속할 클래스 이름을 지정하면 됨\n",
    "    pass"
   ]
  },
  {
   "cell_type": "code",
   "execution_count": 121,
   "id": "d23b5520",
   "metadata": {},
   "outputs": [
    {
     "name": "stdout",
     "output_type": "stream",
     "text": [
      "9\n"
     ]
    }
   ],
   "source": [
    "z = MoreFourCal(4, 5)\n",
    "print(z.add()) # 계산이 되는 것을 확인할 수 있음"
   ]
  },
  {
   "cell_type": "code",
   "execution_count": 123,
   "id": "bea08ac5",
   "metadata": {},
   "outputs": [
    {
     "data": {
      "text/plain": [
       "8"
      ]
     },
     "execution_count": 123,
     "metadata": {},
     "output_type": "execute_result"
    }
   ],
   "source": [
    "# 상속받은 새로운 클래스에 기능을 하나 추가해보자 (pow: ^2)\n",
    "\n",
    "class MoreFourCal(FourCal2):\n",
    "    def pow(self):\n",
    "        result = self.first ** self.second\n",
    "        return result\n",
    "val = MoreFourCal(2,3)\n",
    "val.pow()"
   ]
  },
  {
   "cell_type": "code",
   "execution_count": 125,
   "id": "bc3c41b9",
   "metadata": {},
   "outputs": [
    {
     "ename": "ZeroDivisionError",
     "evalue": "division by zero",
     "output_type": "error",
     "traceback": [
      "\u001b[1;31m---------------------------------------------------------------------------\u001b[0m",
      "\u001b[1;31mZeroDivisionError\u001b[0m                         Traceback (most recent call last)",
      "Cell \u001b[1;32mIn[125], line 3\u001b[0m\n\u001b[0;32m      1\u001b[0m \u001b[38;5;66;03m# 오버라이딩\u001b[39;00m\n\u001b[0;32m      2\u001b[0m val \u001b[38;5;241m=\u001b[39m MoreFourCal(\u001b[38;5;241m4\u001b[39m, \u001b[38;5;241m0\u001b[39m)\n\u001b[1;32m----> 3\u001b[0m val\u001b[38;5;241m.\u001b[39mdiv()\n",
      "Cell \u001b[1;32mIn[103], line 23\u001b[0m, in \u001b[0;36mFourCal2.div\u001b[1;34m(self)\u001b[0m\n\u001b[0;32m     22\u001b[0m \u001b[38;5;28;01mdef\u001b[39;00m \u001b[38;5;21mdiv\u001b[39m(\u001b[38;5;28mself\u001b[39m):\n\u001b[1;32m---> 23\u001b[0m     result \u001b[38;5;241m=\u001b[39m \u001b[38;5;28mself\u001b[39m\u001b[38;5;241m.\u001b[39mfirst \u001b[38;5;241m/\u001b[39m \u001b[38;5;28mself\u001b[39m\u001b[38;5;241m.\u001b[39msecond\n\u001b[0;32m     24\u001b[0m     \u001b[38;5;28;01mreturn\u001b[39;00m result\n",
      "\u001b[1;31mZeroDivisionError\u001b[0m: division by zero"
     ]
    }
   ],
   "source": [
    "# 오버라이딩\n",
    "val = MoreFourCal(4, 0)\n",
    "val.div() ## FourCal2 클래스에서는 기존 나눗셈 방식을 div에 적용하여 0으로 특정 숫자를 나누고자 하면 오류가 출력된다."
   ]
  },
  {
   "cell_type": "code",
   "execution_count": 133,
   "id": "60c540b4",
   "metadata": {},
   "outputs": [
    {
     "data": {
      "text/plain": [
       "0"
      ]
     },
     "execution_count": 133,
     "metadata": {},
     "output_type": "execute_result"
    }
   ],
   "source": [
    "# 이 문제를 해결하기 위해 오버라이딩을 통해 오류가 나던 것을 0을 반환하는 것으로 변경해보자.\n",
    "class SafeFourCal(MoreFourCal):\n",
    "    def div(self):\n",
    "        if self.second != 0:\n",
    "            result = self.first / self.second\n",
    "            return result\n",
    "        else:\n",
    "            return 0\n",
    "val = SafeFourCal(11,0)\n",
    "val.div() ## 이렇게 하면 오류 안 뜸"
   ]
  }
 ],
 "metadata": {
  "kernelspec": {
   "display_name": "Python 3 (ipykernel)",
   "language": "python",
   "name": "python3"
  },
  "language_info": {
   "codemirror_mode": {
    "name": "ipython",
    "version": 3
   },
   "file_extension": ".py",
   "mimetype": "text/x-python",
   "name": "python",
   "nbconvert_exporter": "python",
   "pygments_lexer": "ipython3",
   "version": "3.11.3"
  }
 },
 "nbformat": 4,
 "nbformat_minor": 5
}
