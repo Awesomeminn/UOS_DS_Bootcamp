{
 "cells": [
  {
   "cell_type": "markdown",
   "id": "a64cf311",
   "metadata": {},
   "source": [
    "# 20240719 Module1 _ Day4\n",
    "\n",
    "## 파일 입출력, Pandas, Numpy"
   ]
  },
  {
   "cell_type": "markdown",
   "id": "be20159b",
   "metadata": {},
   "source": [
    "## 파일 입출력 "
   ]
  },
  {
   "cell_type": "code",
   "execution_count": 21,
   "id": "506ee3b4",
   "metadata": {
    "scrolled": true
   },
   "outputs": [
    {
     "name": "stdout",
     "output_type": "stream",
     "text": [
      "홍길동\n",
      "김철수\n",
      "김민재\n",
      "파이썬\n",
      "시립대\n"
     ]
    }
   ],
   "source": [
    "# 파일 불러오기\n",
    "infile = open(r\"input.txt\", \"r\", encoding=\"utf-8\")\n",
    "line = infile.readline()\n",
    "while line != \"\":\n",
    "    print(line.strip())\n",
    "    line = infile.readline()\n",
    "infile.close()"
   ]
  },
  {
   "cell_type": "code",
   "execution_count": 22,
   "id": "83812161",
   "metadata": {},
   "outputs": [],
   "source": [
    "# 새 파일 만들기\n",
    "outfile = open(r\"output.txt\", \"w\", encoding = \"utf-8\")\n",
    "outfile.write(\"시립대\\n\")\n",
    "outfile.close()"
   ]
  },
  {
   "cell_type": "code",
   "execution_count": 25,
   "id": "63afcaed",
   "metadata": {},
   "outputs": [
    {
     "name": "stdout",
     "output_type": "stream",
     "text": [
      "입력 파일 이름: sales.txt\n",
      "출력 파일 이름: summary.txt\n"
     ]
    }
   ],
   "source": [
    "# 파일 닫기 => save, 메모리 반납\n",
    "infilename = input(\"입력 파일 이름: \")\n",
    "outfilename = input(\"출력 파일 이름: \")\n",
    "\n",
    "infile = open(infilename, \"r\")\n",
    "outfile = open(outfilename, \"w\")\n",
    "\n",
    "sum = 0 \n",
    "count = 0\n",
    "\n",
    "sum = 0\n",
    "count = 0\n",
    "\n",
    "line = infile.readline()\n",
    "\n",
    "while line != \"\" :\n",
    "    s = int(line)\n",
    "    sum += s\n",
    "    count += 1\n",
    "    line = infile.readline()\n",
    "outfile.write(\"총매출 = \"+ str(sum)+\"\\n\")\n",
    "outfile.write(\"평균 일매출 = \"+ str(sum/count ))\n",
    "\n",
    "infile.close()\n",
    "outfile.close()"
   ]
  },
  {
   "cell_type": "code",
   "execution_count": 26,
   "id": "8ae07a5d",
   "metadata": {},
   "outputs": [
    {
     "name": "stdout",
     "output_type": "stream",
     "text": [
      "100\n",
      "\n",
      "50\n",
      "\n",
      "60\n",
      "\n",
      "70\n",
      "\n",
      "80\n"
     ]
    }
   ],
   "source": [
    "infile = open(r\"scores.txt\", \"r\")\n",
    "for line in infile:\n",
    "    print(line)"
   ]
  },
  {
   "cell_type": "code",
   "execution_count": 51,
   "id": "69fe12c4",
   "metadata": {},
   "outputs": [
    {
     "name": "stdout",
     "output_type": "stream",
     "text": [
      "Honesty is the best policy Many hands make light work This grass is always greener on the other side of the fence "
     ]
    }
   ],
   "source": [
    "infile = open(f\"proverbs.txt\", \"r\", encoding = \"utf-8\")\n",
    "outfile = open(f\"proverbs2.txt\", \"w\", encoding = \"utf-8\") \n",
    "\n",
    "for line in infile:\n",
    "    line = line.strip()\n",
    "    word_list = line.split()\n",
    "    for word in word_list:\n",
    "        print(word, end = \" \")\n",
    "        outfile.write(word + \" \")  \n",
    "        \n",
    "infile.close()      \n",
    "outfile.close()"
   ]
  }
 ],
 "metadata": {
  "kernelspec": {
   "display_name": "Python 3 (ipykernel)",
   "language": "python",
   "name": "python3"
  },
  "language_info": {
   "codemirror_mode": {
    "name": "ipython",
    "version": 3
   },
   "file_extension": ".py",
   "mimetype": "text/x-python",
   "name": "python",
   "nbconvert_exporter": "python",
   "pygments_lexer": "ipython3",
   "version": "3.11.3"
  }
 },
 "nbformat": 4,
 "nbformat_minor": 5
}
