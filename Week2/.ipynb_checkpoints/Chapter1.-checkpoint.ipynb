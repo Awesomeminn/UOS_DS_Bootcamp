{
 "cells": [
  {
   "cell_type": "markdown",
   "id": "ea30490c",
   "metadata": {},
   "source": [
    "# Numpy로 벡터 생성 및 시각화하기\n",
    "\n",
    "Vector: 수를 순서대로 나열한 것\n",
    "- 차원: 벡터가 가진 원소의 수\n",
    "- 방향: 벡터가 열 방향인지 행 방향인지를 나타낸다. 예를 들어 두 개의 원소가 있는 벡터는 $R^2$에 속한다.  "
   ]
  },
  {
   "cell_type": "code",
   "execution_count": 1,
   "id": "d0fb66a9",
   "metadata": {},
   "outputs": [],
   "source": [
    "# Numpy 패키지 불러오기\n",
    "import numpy as np"
   ]
  },
  {
   "cell_type": "code",
   "execution_count": 4,
   "id": "e5f625bc",
   "metadata": {},
   "outputs": [
    {
     "name": "stdout",
     "output_type": "stream",
     "text": [
      "[1 2 3]\n",
      "[[1 2 3]]\n",
      "[[1]\n",
      " [2]\n",
      " [3]]\n"
     ]
    }
   ],
   "source": [
    "# 배열, 벡터 만들어보기 np.array([])\n",
    "asList = [1, 2, 3]\n",
    "asArray = np.array([1, 2, 3])\n",
    "rowVec = np.array([[1, 2, 3]]) ## 행벡터\n",
    "colVec = np.array([[1], [2], [3]])\n",
    "print(asArray)\n",
    "print(rowVec)\n",
    "print(colVec)"
   ]
  },
  {
   "cell_type": "code",
   "execution_count": 6,
   "id": "7a12d5b2",
   "metadata": {},
   "outputs": [
    {
     "name": "stdout",
     "output_type": "stream",
     "text": [
      "(3,)\n",
      "(1, 3)\n",
      "(3, 1)\n"
     ]
    }
   ],
   "source": [
    "# 위에서 만든거 차원 확인해보기\n",
    "print(asArray.shape)\n",
    "print(rowVec.shape)\n",
    "print(colVec.shape)"
   ]
  },
  {
   "cell_type": "markdown",
   "id": "71ac4d07",
   "metadata": {},
   "source": [
    "# 벡터 연산\n",
    "벡터 연산은 벡터에게 생명을 불어넣는 움직임이다."
   ]
  },
  {
   "cell_type": "code",
   "execution_count": 8,
   "id": "b3cfd37f",
   "metadata": {},
   "outputs": [
    {
     "data": {
      "text/plain": [
       "array([14, 25, 36])"
      ]
     },
     "execution_count": 8,
     "metadata": {},
     "output_type": "execute_result"
    }
   ],
   "source": [
    "# 3차원 벡터 두 개 넣어서 더해보자. (차원이 동일해야 함)\n",
    "v = np.array([4,5,6])\n",
    "w = np.array([10,20,30])\n",
    "v + w"
   ]
  },
  {
   "cell_type": "code",
   "execution_count": 10,
   "id": "23c3242b",
   "metadata": {},
   "outputs": [
    {
     "data": {
      "text/plain": [
       "array([[14, 15, 16],\n",
       "       [24, 25, 26],\n",
       "       [34, 35, 36]])"
      ]
     },
     "execution_count": 10,
     "metadata": {},
     "output_type": "execute_result"
    }
   ],
   "source": [
    "# 브로드캐스팅?\n",
    "v = np.array([[4,5,6]])\n",
    "w = np.array([[10],[20],[30]])\n",
    "v + w"
   ]
  },
  {
   "cell_type": "code",
   "execution_count": 11,
   "id": "4dfaa1e4",
   "metadata": {},
   "outputs": [
    {
     "data": {
      "text/plain": [
       "array([3, 4, 5])"
      ]
     },
     "execution_count": 11,
     "metadata": {},
     "output_type": "execute_result"
    }
   ],
   "source": [
    "# 스칼라-벡터 곱셈\n",
    "s = 2\n",
    "a = [3,4,5]\n",
    "b = np.array(a)\n",
    "b"
   ]
  }
 ],
 "metadata": {
  "kernelspec": {
   "display_name": "Python 3 (ipykernel)",
   "language": "python",
   "name": "python3"
  },
  "language_info": {
   "codemirror_mode": {
    "name": "ipython",
    "version": 3
   },
   "file_extension": ".py",
   "mimetype": "text/x-python",
   "name": "python",
   "nbconvert_exporter": "python",
   "pygments_lexer": "ipython3",
   "version": "3.11.3"
  }
 },
 "nbformat": 4,
 "nbformat_minor": 5
}
