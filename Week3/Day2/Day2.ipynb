{
  "nbformat": 4,
  "nbformat_minor": 0,
  "metadata": {
    "colab": {
      "provenance": []
    },
    "kernelspec": {
      "name": "python3",
      "display_name": "Python 3"
    },
    "language_info": {
      "name": "python"
    }
  },
  "cells": [
    {
      "cell_type": "markdown",
      "source": [
        "# Day 2\n",
        "## 3. 이산확률변수\n",
        "### 이항분포"
      ],
      "metadata": {
        "id": "fKNS0CvUHRlu"
      }
    },
    {
      "cell_type": "code",
      "execution_count": 1,
      "metadata": {
        "colab": {
          "base_uri": "https://localhost:8080/"
        },
        "id": "U-o7lf5pHIAC",
        "outputId": "db146eda-f7c7-4db2-fa7c-692b02558848"
      },
      "outputs": [
        {
          "output_type": "execute_result",
          "data": {
            "text/plain": [
              "0.1171875"
            ]
          },
          "metadata": {},
          "execution_count": 1
        }
      ],
      "source": [
        "from scipy.stats import binom\n",
        "\n",
        "# 확률질량함수 : binom.pmf\n",
        "\n",
        "## 동전을 10번 던져서 앞면이 3번 나올 확률\n",
        "binom.pmf(k=3, n=10, p=0.5)"
      ]
    },
    {
      "cell_type": "code",
      "source": [
        "# 누적분포함수 : binom.cdf\n",
        "\n",
        "## 동전을 10번 던져서 앞면이 6번 이하로 나올 확률\n",
        "print(binom.cdf(k=6, n=10, p=0.5))\n",
        "\n",
        "## 동전을 10번 던져서 앞면이 7번 이상 나올 확률\n",
        "print(1 - binom.cdf(k=6, n=10, p=0.5))"
      ],
      "metadata": {
        "colab": {
          "base_uri": "https://localhost:8080/"
        },
        "id": "MyP0Nr-6H4p4",
        "outputId": "5c2f407b-54e2-4074-fd82-845fd45a09da"
      },
      "execution_count": 3,
      "outputs": [
        {
          "output_type": "stream",
          "name": "stdout",
          "text": [
            "0.828125\n",
            "0.171875\n"
          ]
        }
      ]
    },
    {
      "cell_type": "code",
      "source": [
        "# 분위수 :  binom.ppf\n",
        "\n",
        "## 누적확률이 0.3 이상이 되는 x\n",
        "binom.ppf(0.3, n=10, p=0.5)"
      ],
      "metadata": {
        "colab": {
          "base_uri": "https://localhost:8080/"
        },
        "id": "-j_rQIQXIh0u",
        "outputId": "9069f585-9c29-41f0-b35e-becc08c03556"
      },
      "execution_count": 4,
      "outputs": [
        {
          "output_type": "execute_result",
          "data": {
            "text/plain": [
              "4.0"
            ]
          },
          "metadata": {},
          "execution_count": 4
        }
      ]
    },
    {
      "cell_type": "code",
      "source": [
        "# 난수 : binom.rvs\n",
        "\n",
        "## 동전을 10번 던지는 실험을 30번 반복\n",
        "binom.rvs(n=10, p=0.5, size=30)"
      ],
      "metadata": {
        "colab": {
          "base_uri": "https://localhost:8080/"
        },
        "id": "YRst-EN6Iwq5",
        "outputId": "3827cc4e-65f5-4924-b2f2-eb07d46a85ec"
      },
      "execution_count": 5,
      "outputs": [
        {
          "output_type": "execute_result",
          "data": {
            "text/plain": [
              "array([5, 2, 6, 4, 3, 6, 5, 4, 3, 3, 5, 6, 2, 6, 2, 5, 7, 6, 7, 7, 4, 8,\n",
              "       2, 7, 4, 4, 6, 7, 3, 6])"
            ]
          },
          "metadata": {},
          "execution_count": 5
        }
      ]
    },
    {
      "cell_type": "markdown",
      "source": [
        "### 초기하분포"
      ],
      "metadata": {
        "id": "1R1NHU1cJGFw"
      }
    },
    {
      "cell_type": "code",
      "source": [
        "from scipy.stats import hypergeom\n",
        "\n",
        "# 확률질량함수 : hypergeom.pmf\n",
        "\n",
        "## N = 1,000, A = 200, n = 50  -> P(X = 10)\n",
        "hypergeom.pmf(10, 1000, 200, 50)"
      ],
      "metadata": {
        "colab": {
          "base_uri": "https://localhost:8080/"
        },
        "id": "HwMz-5f1JH-4",
        "outputId": "d5bfd028-fc05-41e7-947e-a23ed98082c6"
      },
      "execution_count": 9,
      "outputs": [
        {
          "output_type": "execute_result",
          "data": {
            "text/plain": [
              "0.14344796941100665"
            ]
          },
          "metadata": {},
          "execution_count": 9
        }
      ]
    },
    {
      "cell_type": "code",
      "source": [
        "# 누적분포함수 : hypergeom.cdf\n",
        "\n",
        "## N = 1,000, A = 200, n = 50  -> P(X <= 10)\n",
        "print(hypergeom.cdf(10, 1000, 200, 50))\n",
        "\n",
        "## N = 1,000, A = 200, n = 50  -> P(X > 10)\n",
        "print(1 - hypergeom.cdf(10, 1000, 200, 50))"
      ],
      "metadata": {
        "colab": {
          "base_uri": "https://localhost:8080/"
        },
        "id": "YtdpgBEFJ7vJ",
        "outputId": "bad7b639-e86f-4baf-cb8f-5df21787f989"
      },
      "execution_count": 10,
      "outputs": [
        {
          "output_type": "stream",
          "name": "stdout",
          "text": [
            "0.5843039735718374\n",
            "0.4156960264281626\n"
          ]
        }
      ]
    },
    {
      "cell_type": "code",
      "source": [
        "# 분위수 :  hypergeom.ppf\n",
        "\n",
        "## 누적확률이 0.5 이상이 되는 x\n",
        "hypergeom.ppf(0.5, 1000, 200, 50)"
      ],
      "metadata": {
        "colab": {
          "base_uri": "https://localhost:8080/"
        },
        "id": "hq4JXj0uKTD4",
        "outputId": "709c0ec4-610b-4990-bd49-4cc9a5c672e7"
      },
      "execution_count": 11,
      "outputs": [
        {
          "output_type": "execute_result",
          "data": {
            "text/plain": [
              "10.0"
            ]
          },
          "metadata": {},
          "execution_count": 11
        }
      ]
    },
    {
      "cell_type": "code",
      "source": [
        "# 난수 : hypergeom.rvs\n",
        "\n",
        "## 모의실험을 25번 반복하는 경우\n",
        "hypergeom.rvs(1000, 200, 50, size = 25)"
      ],
      "metadata": {
        "colab": {
          "base_uri": "https://localhost:8080/"
        },
        "id": "FNW1OO_ZKb8t",
        "outputId": "e16d1d7c-b4be-4cff-d363-5f1f06229cee"
      },
      "execution_count": 13,
      "outputs": [
        {
          "output_type": "execute_result",
          "data": {
            "text/plain": [
              "array([10, 12, 13,  9,  7, 18, 14,  8, 10, 13, 12,  8, 12,  7, 15, 10,  6,\n",
              "       11, 10,  9, 11, 11,  7, 15,  7])"
            ]
          },
          "metadata": {},
          "execution_count": 13
        }
      ]
    },
    {
      "cell_type": "markdown",
      "source": [
        "### 포아송분포"
      ],
      "metadata": {
        "id": "KegoTd_JKsZ_"
      }
    },
    {
      "cell_type": "code",
      "source": [
        "from scipy.stats import poisson\n",
        "\n",
        "# 확률질량함수 : poisson.pmf\n",
        "\n",
        "## mu = 5  -> P(X = 7)\n",
        "poisson.pmf(7, 5)"
      ],
      "metadata": {
        "colab": {
          "base_uri": "https://localhost:8080/"
        },
        "id": "4ixD0QZ_Kr3X",
        "outputId": "8bf14892-900c-4680-86c9-00d0fba80ab7"
      },
      "execution_count": 14,
      "outputs": [
        {
          "output_type": "execute_result",
          "data": {
            "text/plain": [
              "0.10444486295705395"
            ]
          },
          "metadata": {},
          "execution_count": 14
        }
      ]
    },
    {
      "cell_type": "code",
      "source": [
        "# 누적분포함수 : poisson.cdf\n",
        "\n",
        "## mu = 5  -> P(X <= 7)\n",
        "print(poisson.cdf(7,5))\n",
        "\n",
        "## mu = 5  -> P(X > 7)\n",
        "print(1 - poisson.cdf(7,5))"
      ],
      "metadata": {
        "colab": {
          "base_uri": "https://localhost:8080/"
        },
        "id": "S1HD0uA6K-bU",
        "outputId": "9ef11fb6-f8b9-4cec-a2bb-6b42df44b0b5"
      },
      "execution_count": 15,
      "outputs": [
        {
          "output_type": "stream",
          "name": "stdout",
          "text": [
            "0.8666283259299925\n",
            "0.1333716740700075\n"
          ]
        }
      ]
    },
    {
      "cell_type": "code",
      "source": [
        "# 분위수 :  poisson.ppf\n",
        "\n",
        "## 누적확률이 0.7 이상이 되는 x\n",
        "poisson.ppf(0.7, 5)"
      ],
      "metadata": {
        "colab": {
          "base_uri": "https://localhost:8080/"
        },
        "id": "NTjg-_BiLMRa",
        "outputId": "30cbb479-7fdb-4b07-fd9c-c3c0e523ecc4"
      },
      "execution_count": 16,
      "outputs": [
        {
          "output_type": "execute_result",
          "data": {
            "text/plain": [
              "6.0"
            ]
          },
          "metadata": {},
          "execution_count": 16
        }
      ]
    },
    {
      "cell_type": "code",
      "source": [
        "# 난수 : poisson.rvs\n",
        "\n",
        "## 모의실험을 30번 반복하는 경우\n",
        "poisson.rvs(5, size = 30)"
      ],
      "metadata": {
        "colab": {
          "base_uri": "https://localhost:8080/"
        },
        "id": "GVfpFu51LTZC",
        "outputId": "4adb0eac-8ad1-4e44-c041-ede58bd70edc"
      },
      "execution_count": 17,
      "outputs": [
        {
          "output_type": "execute_result",
          "data": {
            "text/plain": [
              "array([10,  1, 10,  5,  9,  3,  3,  6,  5,  1,  3,  4,  3,  4,  8,  8,  4,\n",
              "        5,  1,  8,  5,  8,  5,  9,  2,  2,  3,  4,  4,  4])"
            ]
          },
          "metadata": {},
          "execution_count": 17
        }
      ]
    },
    {
      "cell_type": "markdown",
      "source": [
        "## 4. 연속형 확률분포\n",
        "### 정규분포"
      ],
      "metadata": {
        "id": "Vc2aSswuLc1N"
      }
    },
    {
      "cell_type": "code",
      "source": [
        "from scipy.stats import norm\n",
        "\n",
        "# 확률밀도함수 : norm.pdf\n",
        "\n",
        "## mu = 42, sigma = 5  -> f(X = 40)\n",
        "norm.pdf(40, 42, 5)"
      ],
      "metadata": {
        "colab": {
          "base_uri": "https://localhost:8080/"
        },
        "id": "FLkKPKmtLhyW",
        "outputId": "8ce551f0-6f73-4758-f236-aae93f23d056"
      },
      "execution_count": 18,
      "outputs": [
        {
          "output_type": "execute_result",
          "data": {
            "text/plain": [
              "0.07365402806066466"
            ]
          },
          "metadata": {},
          "execution_count": 18
        }
      ]
    },
    {
      "cell_type": "code",
      "source": [
        "# 누적분포함수 : norm.cdf\n",
        "\n",
        "## mu = 42, sigma = 5  -> P(X <= 54)\n",
        "print(norm.cdf(54, 42, 5))\n",
        "\n",
        "## mu = 42, sigma = 5  -> P(40 <= X <= 54)\n",
        "print(norm.cdf(54, 42, 5)-norm.cdf(40, 42, 5))"
      ],
      "metadata": {
        "colab": {
          "base_uri": "https://localhost:8080/"
        },
        "id": "8wycFwbdLzoB",
        "outputId": "6597491e-64b5-4864-c49b-90fa4688266a"
      },
      "execution_count": 19,
      "outputs": [
        {
          "output_type": "stream",
          "name": "stdout",
          "text": [
            "0.9918024640754038\n",
            "0.647224205685728\n"
          ]
        }
      ]
    },
    {
      "cell_type": "code",
      "source": [
        "# 분위수 :  norm.ppf\n",
        "\n",
        "## 누적확률이 0.9 이상이 되는 x\n",
        "norm.ppf(0.9, 42, 5)"
      ],
      "metadata": {
        "colab": {
          "base_uri": "https://localhost:8080/"
        },
        "id": "GMDxAXTxMP55",
        "outputId": "1cd8b0ad-81b7-459d-8e0b-c2c158eceeb7"
      },
      "execution_count": 21,
      "outputs": [
        {
          "output_type": "execute_result",
          "data": {
            "text/plain": [
              "48.407757827723"
            ]
          },
          "metadata": {},
          "execution_count": 21
        }
      ]
    },
    {
      "cell_type": "code",
      "source": [
        "# 난수 : norm.rvs\n",
        "\n",
        "## 모의실험을 7번 반복하는 경우\n",
        "norm.rvs(42, 5, size = 7)"
      ],
      "metadata": {
        "colab": {
          "base_uri": "https://localhost:8080/"
        },
        "id": "1s8TVi6zMYfN",
        "outputId": "c93bdc13-a58c-47d8-82fb-b7078f54c754"
      },
      "execution_count": 22,
      "outputs": [
        {
          "output_type": "execute_result",
          "data": {
            "text/plain": [
              "array([39.79713819, 42.36614093, 37.72709114, 48.39961748, 48.05154957,\n",
              "       40.61101928, 41.43909474])"
            ]
          },
          "metadata": {},
          "execution_count": 22
        }
      ]
    },
    {
      "cell_type": "markdown",
      "source": [
        "## 5. 표본분포\n",
        "### t-분포"
      ],
      "metadata": {
        "id": "AC-9SWguMfYk"
      }
    },
    {
      "cell_type": "code",
      "source": [
        "from scipy.stats import t\n",
        "\n",
        "# 확률밀도함수 : t.pdf\n",
        "\n",
        "## 자유도 = 5  -> f(X = 1.64)\n",
        "t.pdf(1.64, 5)"
      ],
      "metadata": {
        "colab": {
          "base_uri": "https://localhost:8080/"
        },
        "id": "dMQtZ3_mMkIN",
        "outputId": "b4768977-9651-4fde-a3b1-346ba7073671"
      },
      "execution_count": 23,
      "outputs": [
        {
          "output_type": "execute_result",
          "data": {
            "text/plain": [
              "0.10435965219804019"
            ]
          },
          "metadata": {},
          "execution_count": 23
        }
      ]
    },
    {
      "cell_type": "code",
      "source": [
        "# 누적분포함수 : t.cdf\n",
        "\n",
        "## 자유도 = 5  -> P(X <= 1.64)\n",
        "print(t.cdf(1.64, 5))\n",
        "\n",
        "## 자유도 = 5  -> P(1.32 <= X <= 1.64)\n",
        "print(t.cdf(1.64, 5)-norm.cdf(1.32, 5))"
      ],
      "metadata": {
        "colab": {
          "base_uri": "https://localhost:8080/"
        },
        "id": "9KwdNBzrM1Qx",
        "outputId": "5ecd3b40-723b-413e-908f-10bacde643a6"
      },
      "execution_count": 26,
      "outputs": [
        {
          "output_type": "stream",
          "name": "stdout",
          "text": [
            "0.9190351742553341\n",
            "0.9189185572785187\n"
          ]
        }
      ]
    },
    {
      "cell_type": "code",
      "source": [
        "# 분위수 :  t.ppf\n",
        "\n",
        "## 누적확률이 0.9 이상이 되는 x\n",
        "t.ppf(0.9, 5)"
      ],
      "metadata": {
        "colab": {
          "base_uri": "https://localhost:8080/"
        },
        "id": "Nqhe_XT0NZNM",
        "outputId": "750ad4be-a0be-4baa-da44-97c933f1cd75"
      },
      "execution_count": 27,
      "outputs": [
        {
          "output_type": "execute_result",
          "data": {
            "text/plain": [
              "1.4758840487820273"
            ]
          },
          "metadata": {},
          "execution_count": 27
        }
      ]
    },
    {
      "cell_type": "code",
      "source": [
        "# 난수 : t.rvs\n",
        "\n",
        "## 모의실험을 10번 반복하는 경우\n",
        "t.rvs(5, size = 10)"
      ],
      "metadata": {
        "colab": {
          "base_uri": "https://localhost:8080/"
        },
        "id": "r1zWv_kiNfvb",
        "outputId": "e153ac06-55ba-47a7-c3cb-abcf39267f15"
      },
      "execution_count": 28,
      "outputs": [
        {
          "output_type": "execute_result",
          "data": {
            "text/plain": [
              "array([-1.06501747, -0.49362809, -0.52886205,  0.19986489, -0.60136868,\n",
              "        0.14805449, -1.08972897, -1.80858368,  1.73917365,  0.55275992])"
            ]
          },
          "metadata": {},
          "execution_count": 28
        }
      ]
    },
    {
      "cell_type": "markdown",
      "source": [
        "### 카이제곱분포"
      ],
      "metadata": {
        "id": "DjIuleBfNv2L"
      }
    },
    {
      "cell_type": "code",
      "source": [
        "from scipy.stats import chi2\n",
        "\n",
        "# 확률밀도함수 : chi2.pdf\n",
        "\n",
        "## 자유도 = 3  -> f(X = 1)\n",
        "chi2.pdf(1, 3)"
      ],
      "metadata": {
        "colab": {
          "base_uri": "https://localhost:8080/"
        },
        "id": "L0S8xKy8N0Af",
        "outputId": "86e325d9-2f91-43f9-e45d-d10980600569"
      },
      "execution_count": 29,
      "outputs": [
        {
          "output_type": "execute_result",
          "data": {
            "text/plain": [
              "0.24197072451914337"
            ]
          },
          "metadata": {},
          "execution_count": 29
        }
      ]
    },
    {
      "cell_type": "code",
      "source": [
        "# 누적분포함수 : chi2.cdf\n",
        "\n",
        "## 자유도 = 3  -> P(X <= 1)\n",
        "print(chi2.cdf(1, 3))"
      ],
      "metadata": {
        "colab": {
          "base_uri": "https://localhost:8080/"
        },
        "id": "019JXRRmN-rR",
        "outputId": "d878cb44-097d-46ec-b65f-253101715588"
      },
      "execution_count": 31,
      "outputs": [
        {
          "output_type": "stream",
          "name": "stdout",
          "text": [
            "0.19874804309879915\n"
          ]
        }
      ]
    },
    {
      "cell_type": "code",
      "source": [
        "# 분위수 :  chi2.ppf\n",
        "\n",
        "## 누적확률이 0.9 이상이 되는 x\n",
        "chi2.ppf(0.9, 3)"
      ],
      "metadata": {
        "colab": {
          "base_uri": "https://localhost:8080/"
        },
        "id": "vPsdxuevOKUZ",
        "outputId": "819fc473-5bfa-4aa3-b254-8b611fffd00e"
      },
      "execution_count": 33,
      "outputs": [
        {
          "output_type": "execute_result",
          "data": {
            "text/plain": [
              "6.251388631170325"
            ]
          },
          "metadata": {},
          "execution_count": 33
        }
      ]
    },
    {
      "cell_type": "code",
      "source": [
        "# 난수 : chi2.rvs\n",
        "\n",
        "## 모의실험을 10번 반복하는 경우\n",
        "chi2.rvs(3, size = 10)"
      ],
      "metadata": {
        "colab": {
          "base_uri": "https://localhost:8080/"
        },
        "id": "jCy94FqoOOdc",
        "outputId": "28507c2b-52e1-496c-eaf6-baca0c02179b"
      },
      "execution_count": 34,
      "outputs": [
        {
          "output_type": "execute_result",
          "data": {
            "text/plain": [
              "array([0.53879067, 1.94034718, 0.59063437, 6.17315837, 3.71236181,\n",
              "       0.9996565 , 3.1007916 , 2.26137182, 6.08520028, 3.20293531])"
            ]
          },
          "metadata": {},
          "execution_count": 34
        }
      ]
    },
    {
      "cell_type": "markdown",
      "source": [
        "### F-분포"
      ],
      "metadata": {
        "id": "u0C91Q20OVle"
      }
    },
    {
      "cell_type": "code",
      "source": [
        "from scipy.stats import f\n",
        "\n",
        "# 확률밀도함수 : f.pdf\n",
        "\n",
        "## 자유도 = (5, 5)  -> f(X = 2)\n",
        "f.pdf(2, 5, 5)"
      ],
      "metadata": {
        "colab": {
          "base_uri": "https://localhost:8080/"
        },
        "id": "C9pl-y8aOb4X",
        "outputId": "cc035a92-1e97-4751-ebf9-f7bfc3cd24b2"
      },
      "execution_count": 35,
      "outputs": [
        {
          "output_type": "execute_result",
          "data": {
            "text/plain": [
              "0.15808023109480038"
            ]
          },
          "metadata": {},
          "execution_count": 35
        }
      ]
    },
    {
      "cell_type": "code",
      "source": [
        "# 누적분포함수 : f.cdf\n",
        "\n",
        "## 자유도 = (5, 5)  -> P(X <= 2)\n",
        "print(f.cdf(2, 5, 5))"
      ],
      "metadata": {
        "colab": {
          "base_uri": "https://localhost:8080/"
        },
        "id": "EHdvQpsYO4mf",
        "outputId": "1178b29a-6b96-4de0-a87f-9206f2c5a77b"
      },
      "execution_count": 36,
      "outputs": [
        {
          "output_type": "stream",
          "name": "stdout",
          "text": [
            "0.7674886808696213\n"
          ]
        }
      ]
    },
    {
      "cell_type": "code",
      "source": [
        "# 분위수 :  f.ppf\n",
        "\n",
        "## 누적확률이 0.9 이상이 되는 x\n",
        "f.ppf(0.9, 5, 5)"
      ],
      "metadata": {
        "colab": {
          "base_uri": "https://localhost:8080/"
        },
        "id": "6Q0GJYFgPCQi",
        "outputId": "0a8613d4-7bc1-42d7-db0a-761fc98fd24c"
      },
      "execution_count": 37,
      "outputs": [
        {
          "output_type": "execute_result",
          "data": {
            "text/plain": [
              "3.4529822480379053"
            ]
          },
          "metadata": {},
          "execution_count": 37
        }
      ]
    },
    {
      "cell_type": "code",
      "source": [
        "# 난수 : f.rvs\n",
        "\n",
        "## 모의실험을 10번 반복하는 경우\n",
        "f.rvs(5, 5, size = 10)"
      ],
      "metadata": {
        "colab": {
          "base_uri": "https://localhost:8080/"
        },
        "id": "542BpC1SPHn1",
        "outputId": "7a7b23f5-b833-4313-99c1-888d6333178b"
      },
      "execution_count": 38,
      "outputs": [
        {
          "output_type": "execute_result",
          "data": {
            "text/plain": [
              "array([1.29724372, 2.57738722, 0.56850756, 0.27524651, 0.59551316,\n",
              "       0.2873826 , 0.40399194, 1.52338059, 0.474833  , 6.46241826])"
            ]
          },
          "metadata": {},
          "execution_count": 38
        }
      ]
    },
    {
      "cell_type": "markdown",
      "source": [
        "## 6. 통계적 추정\n",
        "### 모평균에 대한 신뢰구간\n"
      ],
      "metadata": {
        "id": "CYUlyTRmPNeN"
      }
    },
    {
      "cell_type": "code",
      "source": [
        "# Csi 데이터 불러오기\n",
        "\n",
        "import pandas as pd\n",
        "Csi = pd.read_csv(\"/content/drive/MyDrive/단기기초통계/Day2/data/Csi.csv\")\n",
        "Csi.head()"
      ],
      "metadata": {
        "colab": {
          "base_uri": "https://localhost:8080/",
          "height": 206
        },
        "id": "pch8bh4hPbB6",
        "outputId": "fbaf02eb-e630-4a88-d51f-6d09866db29f"
      },
      "execution_count": 40,
      "outputs": [
        {
          "output_type": "execute_result",
          "data": {
            "text/plain": [
              "   ID  Index\n",
              "0   1     75\n",
              "1   2     63\n",
              "2   3     49\n",
              "3   4     86\n",
              "4   5     53"
            ],
            "text/html": [
              "\n",
              "  <div id=\"df-0f7c3da0-3be1-4e1d-bd5d-0307f51d5438\" class=\"colab-df-container\">\n",
              "    <div>\n",
              "<style scoped>\n",
              "    .dataframe tbody tr th:only-of-type {\n",
              "        vertical-align: middle;\n",
              "    }\n",
              "\n",
              "    .dataframe tbody tr th {\n",
              "        vertical-align: top;\n",
              "    }\n",
              "\n",
              "    .dataframe thead th {\n",
              "        text-align: right;\n",
              "    }\n",
              "</style>\n",
              "<table border=\"1\" class=\"dataframe\">\n",
              "  <thead>\n",
              "    <tr style=\"text-align: right;\">\n",
              "      <th></th>\n",
              "      <th>ID</th>\n",
              "      <th>Index</th>\n",
              "    </tr>\n",
              "  </thead>\n",
              "  <tbody>\n",
              "    <tr>\n",
              "      <th>0</th>\n",
              "      <td>1</td>\n",
              "      <td>75</td>\n",
              "    </tr>\n",
              "    <tr>\n",
              "      <th>1</th>\n",
              "      <td>2</td>\n",
              "      <td>63</td>\n",
              "    </tr>\n",
              "    <tr>\n",
              "      <th>2</th>\n",
              "      <td>3</td>\n",
              "      <td>49</td>\n",
              "    </tr>\n",
              "    <tr>\n",
              "      <th>3</th>\n",
              "      <td>4</td>\n",
              "      <td>86</td>\n",
              "    </tr>\n",
              "    <tr>\n",
              "      <th>4</th>\n",
              "      <td>5</td>\n",
              "      <td>53</td>\n",
              "    </tr>\n",
              "  </tbody>\n",
              "</table>\n",
              "</div>\n",
              "    <div class=\"colab-df-buttons\">\n",
              "\n",
              "  <div class=\"colab-df-container\">\n",
              "    <button class=\"colab-df-convert\" onclick=\"convertToInteractive('df-0f7c3da0-3be1-4e1d-bd5d-0307f51d5438')\"\n",
              "            title=\"Convert this dataframe to an interactive table.\"\n",
              "            style=\"display:none;\">\n",
              "\n",
              "  <svg xmlns=\"http://www.w3.org/2000/svg\" height=\"24px\" viewBox=\"0 -960 960 960\">\n",
              "    <path d=\"M120-120v-720h720v720H120Zm60-500h600v-160H180v160Zm220 220h160v-160H400v160Zm0 220h160v-160H400v160ZM180-400h160v-160H180v160Zm440 0h160v-160H620v160ZM180-180h160v-160H180v160Zm440 0h160v-160H620v160Z\"/>\n",
              "  </svg>\n",
              "    </button>\n",
              "\n",
              "  <style>\n",
              "    .colab-df-container {\n",
              "      display:flex;\n",
              "      gap: 12px;\n",
              "    }\n",
              "\n",
              "    .colab-df-convert {\n",
              "      background-color: #E8F0FE;\n",
              "      border: none;\n",
              "      border-radius: 50%;\n",
              "      cursor: pointer;\n",
              "      display: none;\n",
              "      fill: #1967D2;\n",
              "      height: 32px;\n",
              "      padding: 0 0 0 0;\n",
              "      width: 32px;\n",
              "    }\n",
              "\n",
              "    .colab-df-convert:hover {\n",
              "      background-color: #E2EBFA;\n",
              "      box-shadow: 0px 1px 2px rgba(60, 64, 67, 0.3), 0px 1px 3px 1px rgba(60, 64, 67, 0.15);\n",
              "      fill: #174EA6;\n",
              "    }\n",
              "\n",
              "    .colab-df-buttons div {\n",
              "      margin-bottom: 4px;\n",
              "    }\n",
              "\n",
              "    [theme=dark] .colab-df-convert {\n",
              "      background-color: #3B4455;\n",
              "      fill: #D2E3FC;\n",
              "    }\n",
              "\n",
              "    [theme=dark] .colab-df-convert:hover {\n",
              "      background-color: #434B5C;\n",
              "      box-shadow: 0px 1px 3px 1px rgba(0, 0, 0, 0.15);\n",
              "      filter: drop-shadow(0px 1px 2px rgba(0, 0, 0, 0.3));\n",
              "      fill: #FFFFFF;\n",
              "    }\n",
              "  </style>\n",
              "\n",
              "    <script>\n",
              "      const buttonEl =\n",
              "        document.querySelector('#df-0f7c3da0-3be1-4e1d-bd5d-0307f51d5438 button.colab-df-convert');\n",
              "      buttonEl.style.display =\n",
              "        google.colab.kernel.accessAllowed ? 'block' : 'none';\n",
              "\n",
              "      async function convertToInteractive(key) {\n",
              "        const element = document.querySelector('#df-0f7c3da0-3be1-4e1d-bd5d-0307f51d5438');\n",
              "        const dataTable =\n",
              "          await google.colab.kernel.invokeFunction('convertToInteractive',\n",
              "                                                    [key], {});\n",
              "        if (!dataTable) return;\n",
              "\n",
              "        const docLinkHtml = 'Like what you see? Visit the ' +\n",
              "          '<a target=\"_blank\" href=https://colab.research.google.com/notebooks/data_table.ipynb>data table notebook</a>'\n",
              "          + ' to learn more about interactive tables.';\n",
              "        element.innerHTML = '';\n",
              "        dataTable['output_type'] = 'display_data';\n",
              "        await google.colab.output.renderOutput(dataTable, element);\n",
              "        const docLink = document.createElement('div');\n",
              "        docLink.innerHTML = docLinkHtml;\n",
              "        element.appendChild(docLink);\n",
              "      }\n",
              "    </script>\n",
              "  </div>\n",
              "\n",
              "\n",
              "<div id=\"df-d690922f-4158-4cce-8042-ed48ff6068e0\">\n",
              "  <button class=\"colab-df-quickchart\" onclick=\"quickchart('df-d690922f-4158-4cce-8042-ed48ff6068e0')\"\n",
              "            title=\"Suggest charts\"\n",
              "            style=\"display:none;\">\n",
              "\n",
              "<svg xmlns=\"http://www.w3.org/2000/svg\" height=\"24px\"viewBox=\"0 0 24 24\"\n",
              "     width=\"24px\">\n",
              "    <g>\n",
              "        <path d=\"M19 3H5c-1.1 0-2 .9-2 2v14c0 1.1.9 2 2 2h14c1.1 0 2-.9 2-2V5c0-1.1-.9-2-2-2zM9 17H7v-7h2v7zm4 0h-2V7h2v10zm4 0h-2v-4h2v4z\"/>\n",
              "    </g>\n",
              "</svg>\n",
              "  </button>\n",
              "\n",
              "<style>\n",
              "  .colab-df-quickchart {\n",
              "      --bg-color: #E8F0FE;\n",
              "      --fill-color: #1967D2;\n",
              "      --hover-bg-color: #E2EBFA;\n",
              "      --hover-fill-color: #174EA6;\n",
              "      --disabled-fill-color: #AAA;\n",
              "      --disabled-bg-color: #DDD;\n",
              "  }\n",
              "\n",
              "  [theme=dark] .colab-df-quickchart {\n",
              "      --bg-color: #3B4455;\n",
              "      --fill-color: #D2E3FC;\n",
              "      --hover-bg-color: #434B5C;\n",
              "      --hover-fill-color: #FFFFFF;\n",
              "      --disabled-bg-color: #3B4455;\n",
              "      --disabled-fill-color: #666;\n",
              "  }\n",
              "\n",
              "  .colab-df-quickchart {\n",
              "    background-color: var(--bg-color);\n",
              "    border: none;\n",
              "    border-radius: 50%;\n",
              "    cursor: pointer;\n",
              "    display: none;\n",
              "    fill: var(--fill-color);\n",
              "    height: 32px;\n",
              "    padding: 0;\n",
              "    width: 32px;\n",
              "  }\n",
              "\n",
              "  .colab-df-quickchart:hover {\n",
              "    background-color: var(--hover-bg-color);\n",
              "    box-shadow: 0 1px 2px rgba(60, 64, 67, 0.3), 0 1px 3px 1px rgba(60, 64, 67, 0.15);\n",
              "    fill: var(--button-hover-fill-color);\n",
              "  }\n",
              "\n",
              "  .colab-df-quickchart-complete:disabled,\n",
              "  .colab-df-quickchart-complete:disabled:hover {\n",
              "    background-color: var(--disabled-bg-color);\n",
              "    fill: var(--disabled-fill-color);\n",
              "    box-shadow: none;\n",
              "  }\n",
              "\n",
              "  .colab-df-spinner {\n",
              "    border: 2px solid var(--fill-color);\n",
              "    border-color: transparent;\n",
              "    border-bottom-color: var(--fill-color);\n",
              "    animation:\n",
              "      spin 1s steps(1) infinite;\n",
              "  }\n",
              "\n",
              "  @keyframes spin {\n",
              "    0% {\n",
              "      border-color: transparent;\n",
              "      border-bottom-color: var(--fill-color);\n",
              "      border-left-color: var(--fill-color);\n",
              "    }\n",
              "    20% {\n",
              "      border-color: transparent;\n",
              "      border-left-color: var(--fill-color);\n",
              "      border-top-color: var(--fill-color);\n",
              "    }\n",
              "    30% {\n",
              "      border-color: transparent;\n",
              "      border-left-color: var(--fill-color);\n",
              "      border-top-color: var(--fill-color);\n",
              "      border-right-color: var(--fill-color);\n",
              "    }\n",
              "    40% {\n",
              "      border-color: transparent;\n",
              "      border-right-color: var(--fill-color);\n",
              "      border-top-color: var(--fill-color);\n",
              "    }\n",
              "    60% {\n",
              "      border-color: transparent;\n",
              "      border-right-color: var(--fill-color);\n",
              "    }\n",
              "    80% {\n",
              "      border-color: transparent;\n",
              "      border-right-color: var(--fill-color);\n",
              "      border-bottom-color: var(--fill-color);\n",
              "    }\n",
              "    90% {\n",
              "      border-color: transparent;\n",
              "      border-bottom-color: var(--fill-color);\n",
              "    }\n",
              "  }\n",
              "</style>\n",
              "\n",
              "  <script>\n",
              "    async function quickchart(key) {\n",
              "      const quickchartButtonEl =\n",
              "        document.querySelector('#' + key + ' button');\n",
              "      quickchartButtonEl.disabled = true;  // To prevent multiple clicks.\n",
              "      quickchartButtonEl.classList.add('colab-df-spinner');\n",
              "      try {\n",
              "        const charts = await google.colab.kernel.invokeFunction(\n",
              "            'suggestCharts', [key], {});\n",
              "      } catch (error) {\n",
              "        console.error('Error during call to suggestCharts:', error);\n",
              "      }\n",
              "      quickchartButtonEl.classList.remove('colab-df-spinner');\n",
              "      quickchartButtonEl.classList.add('colab-df-quickchart-complete');\n",
              "    }\n",
              "    (() => {\n",
              "      let quickchartButtonEl =\n",
              "        document.querySelector('#df-d690922f-4158-4cce-8042-ed48ff6068e0 button');\n",
              "      quickchartButtonEl.style.display =\n",
              "        google.colab.kernel.accessAllowed ? 'block' : 'none';\n",
              "    })();\n",
              "  </script>\n",
              "</div>\n",
              "\n",
              "    </div>\n",
              "  </div>\n"
            ],
            "application/vnd.google.colaboratory.intrinsic+json": {
              "type": "dataframe",
              "variable_name": "Csi",
              "summary": "{\n  \"name\": \"Csi\",\n  \"rows\": 25,\n  \"fields\": [\n    {\n      \"column\": \"ID\",\n      \"properties\": {\n        \"dtype\": \"number\",\n        \"std\": 7,\n        \"min\": 1,\n        \"max\": 25,\n        \"num_unique_values\": 25,\n        \"samples\": [\n          9,\n          17,\n          1\n        ],\n        \"semantic_type\": \"\",\n        \"description\": \"\"\n      }\n    },\n    {\n      \"column\": \"Index\",\n      \"properties\": {\n        \"dtype\": \"number\",\n        \"std\": 11,\n        \"min\": 49,\n        \"max\": 95,\n        \"num_unique_values\": 22,\n        \"samples\": [\n          75,\n          66,\n          81\n        ],\n        \"semantic_type\": \"\",\n        \"description\": \"\"\n      }\n    }\n  ]\n}"
            }
          },
          "metadata": {},
          "execution_count": 40
        }
      ]
    },
    {
      "cell_type": "markdown",
      "source": [
        "- 직접계산"
      ],
      "metadata": {
        "id": "WOTBorPDReBh"
      }
    },
    {
      "cell_type": "code",
      "source": [
        "from scipy.stats import t\n",
        "import numpy as np\n",
        "\n",
        "# n: 표본의 개수\n",
        "n = Csi.Index.size\n",
        "\n",
        "# Csi.Index의 평균\n",
        "mean = np.mean(Csi.Index)\n",
        "\n",
        "# 표준오차 계산\n",
        "sd = np.std(Csi.Index, ddof = 1)/np.sqrt(n)\n",
        "\n",
        "# 오차한계 계산\n",
        "limit = t.ppf((1-0.05/2), n-1)*sd\n",
        "\n",
        "# 신뢰구간 계산\n",
        "print(mean-limit, mean+limit)"
      ],
      "metadata": {
        "colab": {
          "base_uri": "https://localhost:8080/"
        },
        "id": "2viRQZa-QDRt",
        "outputId": "c9411420-e3a6-48b1-f1e8-3255320ab8e5"
      },
      "execution_count": 44,
      "outputs": [
        {
          "output_type": "stream",
          "name": "stdout",
          "text": [
            "67.53175533702299 77.108244662977\n"
          ]
        }
      ]
    },
    {
      "cell_type": "markdown",
      "source": [
        "- 패키지 이용"
      ],
      "metadata": {
        "id": "FBGWrBCRRhzx"
      }
    },
    {
      "cell_type": "code",
      "source": [
        "import statsmodels.stats.api as sms\n",
        "\n",
        "# 평균\n",
        "print(sms.DescrStatsW(Csi.Index).mean)\n",
        "\n",
        "# 표준편차 : 분모(n-ddof)\n",
        "print(sms.DescrStatsW(Csi.Index, ddof = 1).std)\n",
        "\n",
        "# 신뢰구간\n",
        "print(sms.DescrStatsW(Csi.Index).tconfint_mean())"
      ],
      "metadata": {
        "colab": {
          "base_uri": "https://localhost:8080/"
        },
        "id": "ZwoyBJxkRmjh",
        "outputId": "6e4d24cb-1b9c-4bf2-b978-a2d5b27dc3b1"
      },
      "execution_count": 47,
      "outputs": [
        {
          "output_type": "stream",
          "name": "stdout",
          "text": [
            "72.32\n",
            "11.600000000000001\n",
            "(67.53175533702299, 77.108244662977)\n"
          ]
        }
      ]
    },
    {
      "cell_type": "markdown",
      "source": [
        "### 모비율에 대한 신뢰구간\n",
        "- 패키지 이용"
      ],
      "metadata": {
        "id": "vYQ9PAg3Sjn2"
      }
    },
    {
      "cell_type": "code",
      "source": [
        "from statsmodels.stats.proportion import proportion_confint\n",
        "\n",
        "print(\"표본비율: p = \", 250/400)\n",
        "proportion_confint(count = 250, nobs = 400, alpha = 0.05, method = \"beta\")"
      ],
      "metadata": {
        "colab": {
          "base_uri": "https://localhost:8080/"
        },
        "id": "aV1vWehpSoY2",
        "outputId": "16390a8b-a154-4ac1-ef9f-cb0d25a490cd"
      },
      "execution_count": 48,
      "outputs": [
        {
          "output_type": "stream",
          "name": "stdout",
          "text": [
            "표본비율: p =  0.625\n"
          ]
        },
        {
          "output_type": "execute_result",
          "data": {
            "text/plain": [
              "(0.5755217886614248, 0.67261376127048)"
            ]
          },
          "metadata": {},
          "execution_count": 48
        }
      ]
    },
    {
      "cell_type": "markdown",
      "source": [
        "- 정규근사 신뢰구간\n"
      ],
      "metadata": {
        "id": "GwXL65gjTL0r"
      }
    },
    {
      "cell_type": "code",
      "source": [
        "from scipy.stats import norm\n",
        "import numpy as np\n",
        "\n",
        "norm.interval(0.95, 250/400, scale = np.sqrt(250/400*(1-250/400)/400))"
      ],
      "metadata": {
        "colab": {
          "base_uri": "https://localhost:8080/"
        },
        "id": "_rjuSiYRTPMN",
        "outputId": "bba26d9b-220e-4ba0-c3fe-4aa0ad7b46e1"
      },
      "execution_count": 49,
      "outputs": [
        {
          "output_type": "execute_result",
          "data": {
            "text/plain": [
              "(0.5775568258044378, 0.6724431741955622)"
            ]
          },
          "metadata": {},
          "execution_count": 49
        }
      ]
    },
    {
      "cell_type": "code",
      "source": [
        "proportion_confint(count = 250, nobs = 400, alpha = 0.05, method = \"normal\")"
      ],
      "metadata": {
        "colab": {
          "base_uri": "https://localhost:8080/"
        },
        "id": "TKs3w6ABToGf",
        "outputId": "1c106feb-b4e9-4968-c196-1acd6d031fe3"
      },
      "execution_count": 50,
      "outputs": [
        {
          "output_type": "execute_result",
          "data": {
            "text/plain": [
              "(0.5775568258044377, 0.6724431741955623)"
            ]
          },
          "metadata": {},
          "execution_count": 50
        }
      ]
    },
    {
      "cell_type": "markdown",
      "source": [
        "### 모분산에 대한 신뢰구간"
      ],
      "metadata": {
        "id": "RGIbnzEST-_T"
      }
    },
    {
      "cell_type": "code",
      "source": [
        "from scipy.stats import bayes_mvs\n",
        "\n",
        "# 평균, 분산, 표준편차 각각의 신뢰구간 계산\n",
        "mean_ci, var_ci, std_ci = bayes_mvs(Csi.Index, alpha = 0.95)\n",
        "print(var_ci)\n",
        "print(std_ci)"
      ],
      "metadata": {
        "colab": {
          "base_uri": "https://localhost:8080/"
        },
        "id": "4h8HUxt6UDVS",
        "outputId": "dedf583e-9e36-4598-a8ee-5d936f2600db"
      },
      "execution_count": 52,
      "outputs": [
        {
          "output_type": "stream",
          "name": "stdout",
          "text": [
            "Variance(statistic=146.79272727272726, minmax=(82.04028250979714, 260.41455376108695))\n",
            "Std_dev(statistic=11.978951328828686, minmax=(9.057609094556748, 16.137365143079798))\n"
          ]
        }
      ]
    }
  ]
}