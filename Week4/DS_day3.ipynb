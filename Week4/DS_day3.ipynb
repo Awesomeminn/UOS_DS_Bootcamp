{
 "cells": [
  {
   "cell_type": "markdown",
   "metadata": {
    "id": "7lHOVPQ94H3C"
   },
   "source": [
    "# 텐서 기초"
   ]
  },
  {
   "cell_type": "code",
   "execution_count": null,
   "metadata": {
    "id": "sFIfNlmK6Z7G"
   },
   "outputs": [],
   "source": [
    "!pip install torch\n",
    "import torch\n",
    "a = torch.ones(3)\n",
    "a"
   ]
  },
  {
   "cell_type": "code",
   "execution_count": null,
   "metadata": {
    "id": "lAJDKJWb7VF6"
   },
   "outputs": [],
   "source": [
    "a[1]"
   ]
  },
  {
   "cell_type": "code",
   "execution_count": null,
   "metadata": {
    "id": "PNzqaArkiPZ4"
   },
   "outputs": [],
   "source": [
    "a[2] = 2\n",
    "a"
   ]
  },
  {
   "cell_type": "code",
   "execution_count": null,
   "metadata": {
    "id": "djZmkHe_iT_j"
   },
   "outputs": [],
   "source": [
    "b = torch.tensor([1.,2.,3.,4.,5.,6.])\n",
    "b"
   ]
  },
  {
   "cell_type": "code",
   "execution_count": null,
   "metadata": {
    "id": "RVY7Pd80kqWG"
   },
   "outputs": [],
   "source": [
    "b.shape"
   ]
  },
  {
   "cell_type": "code",
   "execution_count": null,
   "metadata": {
    "id": "seBVrM2CjXGF"
   },
   "outputs": [],
   "source": [
    "c = torch.tensor([[1.,2.],[3.,4.],[5.,6.]])\n",
    "c"
   ]
  },
  {
   "cell_type": "code",
   "execution_count": null,
   "metadata": {
    "id": "q-gvl5YwjZaE"
   },
   "outputs": [],
   "source": [
    "c.shape"
   ]
  },
  {
   "cell_type": "code",
   "execution_count": null,
   "metadata": {
    "id": "jO4f46dekskV"
   },
   "outputs": [],
   "source": [
    "c[1:,]"
   ]
  },
  {
   "cell_type": "code",
   "execution_count": null,
   "metadata": {
    "id": "Chek7sQHlqtz"
   },
   "outputs": [],
   "source": [
    "c[1:2,]"
   ]
  },
  {
   "cell_type": "code",
   "execution_count": null,
   "metadata": {
    "id": "Q93-yiCZlvC-"
   },
   "outputs": [],
   "source": [
    "c[1,]"
   ]
  },
  {
   "cell_type": "code",
   "execution_count": null,
   "metadata": {
    "id": "Kup6B8uotRk0"
   },
   "outputs": [],
   "source": [
    "# 5x3 크기의 0으로 초기화된 텐서 생성, 데이터 타입은 float32\n",
    "z = torch.zeros((5, 3), dtype=torch.float32)\n",
    "print(z)\n",
    "print(z.dtype)  # 텐서의 데이터 타입 출력"
   ]
  },
  {
   "cell_type": "code",
   "execution_count": null,
   "metadata": {
    "id": "BSLZRPPftkSq"
   },
   "outputs": [],
   "source": [
    "### 텐서의 데이터 형 변환이 필요한 경우\n",
    "# 패키지 로드\n",
    "import torch\n",
    "import torch.nn as nn\n",
    "\n",
    "# nn.Linear 레이어 정의\n",
    "linear_layer = nn.Linear(4, 2) # linear_layer 는 함수입니다.\n",
    "\n",
    "# 입력 텐서 만들기\n",
    "input_tensor = torch.tensor([[1, 2, 3, 4], [5, 6, 7, 8]], dtype=torch.int32)\n",
    "\n",
    "# 입력 텐서 출력\n",
    "print(\"Input Tensor:\")\n",
    "print(input_tensor)\n",
    "print(\"Input Tensor dtype:\", input_tensor.dtype)\n",
    "\n",
    "# 오류 발생\n",
    "linear_layer(input_tensor)"
   ]
  },
  {
   "cell_type": "code",
   "execution_count": null,
   "metadata": {
    "id": "1cfIBR4Yt9Bv"
   },
   "outputs": [],
   "source": [
    "# 수정\n",
    "input_tensor = input_tensor.type(torch.float32)\n",
    "linear_layer(input_tensor)"
   ]
  },
  {
   "cell_type": "code",
   "execution_count": null,
   "metadata": {
    "id": "--bE78NMuHDE"
   },
   "outputs": [],
   "source": [
    "### 텐서 참조 및 복사\n",
    "a = torch.ones(2, 2)\n",
    "b = a\n",
    "\n",
    "a[0][1] = 561  # a를 변경하면...\n",
    "print(b)       # ...b도 변경됨"
   ]
  },
  {
   "cell_type": "code",
   "execution_count": null,
   "metadata": {
    "id": "Rm4q5wdst_X0"
   },
   "outputs": [],
   "source": [
    "a = torch.ones(2, 2)\n",
    "b = a.clone()\n",
    "\n",
    "a[0][1] = 561  # a를 변경하면...\n",
    "print(b)       # ...b는 변경되지 않음"
   ]
  },
  {
   "cell_type": "code",
   "execution_count": null,
   "metadata": {
    "id": "T2wdUt4GuNoH"
   },
   "outputs": [],
   "source": [
    "### 자동 미분 기능을 갖는 텐서 생성\n",
    "a = torch.rand(2, 2, requires_grad=True)\n",
    "print(a)"
   ]
  },
  {
   "cell_type": "code",
   "execution_count": null,
   "metadata": {
    "id": "sRqn9fTKzMn-"
   },
   "outputs": [],
   "source": [
    "# 텐서변환\n",
    "import numpy as np\n",
    "import torch\n",
    "import torch.nn as nn\n",
    "\n",
    "# numpy 배열 생성\n",
    "a = np.array([10, 5, 3])\n",
    "print(type(a))\n",
    "\n",
    "# numpy 배열을 텐서로 변환\n",
    "tensor_a = torch.Tensor(a)\n",
    "print(\"1차원 텐서의 생성:\", tensor_a)"
   ]
  },
  {
   "cell_type": "code",
   "execution_count": null,
   "metadata": {
    "id": "M-1hkNs9JPjK"
   },
   "outputs": [],
   "source": [
    "# 텐서의 합과 데이터 타입 출력\n",
    "print(\"sum of a:\", tensor_a.sum())\n",
    "print(\"dtype of a:\", tensor_a.dtype)"
   ]
  },
  {
   "cell_type": "code",
   "execution_count": null,
   "metadata": {
    "id": "xODNS0XuJQ3x"
   },
   "outputs": [],
   "source": [
    "# 3차원 텐서 생성 및 변형 예제\n",
    "a = torch.rand(size=(3, 50, 20))\n",
    "print(\"shape:\", a.shape)"
   ]
  },
  {
   "cell_type": "code",
   "execution_count": null,
   "metadata": {
    "id": "nOxkab6_JXE2"
   },
   "outputs": [],
   "source": [
    "# 마지막 차원이 1인 4D 텐서로 변환\n",
    "b = a.unsqueeze(0)\n",
    "print(\"shape:\", b.shape)"
   ]
  },
  {
   "cell_type": "code",
   "execution_count": null,
   "metadata": {
    "id": "qX5KFnM8JbIV"
   },
   "outputs": [],
   "source": [
    "# 텐서의 차원 순서 변경\n",
    "print(\"shape:\", a.shape)\n",
    "permuted_a = a.permute(2, 1, 0)\n",
    "print(\"shape:\", permuted_a.shape)"
   ]
  },
  {
   "cell_type": "code",
   "execution_count": null,
   "metadata": {
    "id": "Llh_2ikZJfuQ"
   },
   "outputs": [],
   "source": [
    "# 마지막 차원을 줄여 3D 텐서로 변환\n",
    "print(\"shape:\", b.shape)\n",
    "b = b.squeeze(0)\n",
    "print(\"shape:\", b.shape)"
   ]
  },
  {
   "cell_type": "code",
   "execution_count": null,
   "metadata": {
    "id": "9vdkVKPGJkY_"
   },
   "outputs": [],
   "source": [
    "# 텐서의 데이터 타입 변환\n",
    "import numpy as np\n",
    "a1 = np.array([1, 2, 3])\n",
    "a1 = torch.tensor(a1)\n",
    "print(\"original dtype:\", a1.dtype)\n",
    "a1 = a1.to(torch.float)\n",
    "print(\"converted dtype:\", a1.dtype)"
   ]
  },
  {
   "cell_type": "markdown",
   "metadata": {
    "id": "wNw028UR4hLD"
   },
   "source": [
    "# 자료 분석 실습 1 : 다중 목적 선형회귀모형\n",
    " - 자료 설명\n",
    "  - Relative Compactness: 건물의 콤팩트성을 나타내는 값으로, 0에서 1 사이의 값입니다. 값이 높을수록 건물이 더 콤팩트합니다.\n",
    "- Surface Area: 건물의 전체 표면적을 나타내며, 제곱미터 단위입니다.\n",
    "- Wall Area: 외벽의 총 면적을 제곱미터로 나타냅니다.\n",
    "- Roof Area: 지붕의 총 면적을 제곱미터로 나타냅니다.\n",
    "- Overall Height: 건물의 전체 높이를 미터 단위로 나타냅니다.\n",
    "- Orientation: 건물의 방향을 나타내며, 북쪽(2), 동쪽(3), 남쪽(4), 서쪽(5)으로 구분됩니다.\n",
    "- Glazing Area: 건물의 창문 면적 비율을 나타내며, 0에서 1 사이의 값입니다.\n",
    "- Glazing Area Distribution: 창문 면적이 건물의 각 측면에 어떻게 분포되어 있는지를 나타냅니다.\n"
   ]
  },
  {
   "cell_type": "code",
   "execution_count": null,
   "metadata": {
    "id": "FXqDDLbjl0ah"
   },
   "outputs": [],
   "source": [
    "import pandas as pd\n",
    "\n",
    "# 데이터셋 로드\n",
    "url = \"https://archive.ics.uci.edu/ml/machine-learning-databases/00242/ENB2012_data.xlsx\"\n",
    "data = pd.read_excel(url)\n",
    "data.head()\n",
    "colnames = [\"Relative_Compactness\",\n",
    "            \"Surface_Area\",\n",
    "            \"Wall_Area\",\n",
    "            \"Roof_Area\",\n",
    "            \"Overall_Height\",\n",
    "            \"Orientation\",\n",
    "            \"Glazing_Area\",\n",
    "            \"Glazing_Area_Distribution\",\n",
    "            \"Heating_Load\",\n",
    "            \"Cooling_Load\"]\n",
    "data.columns = colnames\n",
    "# 데이터 확인\n",
    "data.head()"
   ]
  },
  {
   "cell_type": "code",
   "execution_count": null,
   "metadata": {
    "id": "5g6Mg52b45mM"
   },
   "outputs": [],
   "source": [
    "data['Orientation'] = data['Orientation'].astype('category')\n",
    "data['Orientation']"
   ]
  },
  {
   "cell_type": "code",
   "execution_count": null,
   "metadata": {
    "id": "g7gsfChz48hE"
   },
   "outputs": [],
   "source": [
    "rdata = pd.get_dummies(data, columns=['Orientation'])\n",
    "rdata.head()\n",
    "rdata.columns\n",
    "rdata = rdata.drop(columns=[\"Orientation_5\"])\n",
    "rdata.columns"
   ]
  },
  {
   "cell_type": "code",
   "execution_count": null,
   "metadata": {
    "id": "nuDwokfk504f"
   },
   "outputs": [],
   "source": [
    "y = rdata[[\"Heating_Load\", \"Cooling_Load\"]]\n",
    "y.head()"
   ]
  },
  {
   "cell_type": "code",
   "execution_count": null,
   "metadata": {
    "id": "QRtHDNx458BO"
   },
   "outputs": [],
   "source": [
    "X = rdata.drop(columns=[\"Heating_Load\", \"Cooling_Load\"])\n",
    "X.head()"
   ]
  },
  {
   "cell_type": "code",
   "execution_count": null,
   "metadata": {
    "id": "qF5M0l9f5_Le"
   },
   "outputs": [],
   "source": [
    "X.shape"
   ]
  },
  {
   "cell_type": "code",
   "execution_count": null,
   "metadata": {
    "id": "AXkP9mtD6IAE"
   },
   "outputs": [],
   "source": [
    "import torch\n",
    "import torch.nn as nn\n",
    "import torch.optim as optim\n",
    "from torch.utils.data import Dataset, DataLoader, TensorDataset"
   ]
  },
  {
   "cell_type": "code",
   "execution_count": null,
   "metadata": {
    "id": "kZPQhBHL6Kro"
   },
   "outputs": [],
   "source": [
    "import numpy as np\n",
    "X = np.array(X)\n",
    "X = X.astype(float)\n",
    "y = np.array(y)\n",
    "y = y.astype(float)"
   ]
  },
  {
   "cell_type": "code",
   "execution_count": null,
   "metadata": {
    "id": "SlrLBGJM6Noe"
   },
   "outputs": [],
   "source": [
    "# 샘플링\n",
    "np.random.seed(1)\n",
    "samples = np.random.choice([True, False], size=768, p=[0.7, 0.3])"
   ]
  },
  {
   "cell_type": "code",
   "execution_count": null,
   "metadata": {
    "id": "cgaSTPyV6YIZ"
   },
   "outputs": [],
   "source": [
    "train_input = X[samples,:]\n",
    "train_target = y[samples,:]\n",
    "test_input = X[~samples,:]\n",
    "test_target = y[~samples,:]"
   ]
  },
  {
   "cell_type": "code",
   "execution_count": null,
   "metadata": {
    "id": "P89KSgly9e7H"
   },
   "outputs": [],
   "source": [
    "# 텐서로 변환\n",
    "train_input = torch.tensor(train_input, dtype=torch.float32)\n",
    "train_target = torch.tensor(train_target, dtype=torch.float32)\n",
    "test_input = torch.tensor(test_input, dtype=torch.float32)\n",
    "test_target = torch.tensor(test_target, dtype=torch.float32)\n",
    "type(train_input)\n"
   ]
  },
  {
   "cell_type": "code",
   "execution_count": null,
   "metadata": {
    "id": "2lMAC9Dx9hlO"
   },
   "outputs": [],
   "source": [
    "train_input.shape"
   ]
  },
  {
   "cell_type": "code",
   "execution_count": null,
   "metadata": {
    "id": "aExB8o1D9yDh"
   },
   "outputs": [],
   "source": [
    "train_dataset = TensorDataset(train_input, train_target)\n",
    "test_dataset = TensorDataset(test_input, test_target)"
   ]
  },
  {
   "cell_type": "code",
   "execution_count": null,
   "metadata": {
    "id": "60ihgEHc95zA"
   },
   "outputs": [],
   "source": [
    "train_dataset.tensors"
   ]
  },
  {
   "cell_type": "markdown",
   "metadata": {
    "id": "K5qP4gT590nx"
   },
   "source": [
    "- TensorDataset은 텐서 데이터를 묶어서 하나의 데이터셋으로 만듭니다.\n",
    "- train_input과 train_target은 각각 훈련 데이터의 입력과 목표(레이블) 텐서입니다.\n",
    "- test_input과 test_target은 각각 테스트 데이터의 입력과 목표 텐서입니다.\n",
    "- 이 과정에서 훈련 데이터와 테스트 데이터가 TensorDataset으로 묶여 각각 train_dataset과 test_dataset이 됩니다."
   ]
  },
  {
   "cell_type": "code",
   "execution_count": null,
   "metadata": {
    "id": "3gwY1M3_0Hfz"
   },
   "outputs": [],
   "source": [
    "# 선형모형 생성\n",
    "linear_model = nn.Linear(10,2)\n",
    "output = linear_model(train_input)\n",
    "output.shape"
   ]
  },
  {
   "cell_type": "code",
   "execution_count": null,
   "metadata": {
    "id": "JRadGOpy0czs"
   },
   "outputs": [],
   "source": [
    "# 손실함수 정의\n",
    "loss = ((train_target- output)**2).mean()\n",
    "loss"
   ]
  },
  {
   "cell_type": "code",
   "execution_count": null,
   "metadata": {
    "id": "eFHAKYde0mBi"
   },
   "outputs": [],
   "source": [
    "linear_model.weight"
   ]
  },
  {
   "cell_type": "code",
   "execution_count": null,
   "metadata": {
    "id": "vOldtL5c0on0"
   },
   "outputs": [],
   "source": [
    "linear_model.bias"
   ]
  },
  {
   "cell_type": "code",
   "execution_count": null,
   "metadata": {
    "id": "PIjKFGHR4iqd"
   },
   "outputs": [],
   "source": [
    "linear_model(train_input)"
   ]
  },
  {
   "cell_type": "code",
   "execution_count": null,
   "metadata": {
    "id": "2d_8Ck1s4klI"
   },
   "outputs": [],
   "source": [
    "linear_model(train_input).shape"
   ]
  },
  {
   "cell_type": "code",
   "execution_count": null,
   "metadata": {
    "id": "wQ1hMve54nu0"
   },
   "outputs": [],
   "source": [
    "## SGD를 이용하여 위 모형을 학습\n",
    "optimizer = optim.SGD(linear_model.parameters(), lr=1e-8)\n",
    "mse = nn.MSELoss()"
   ]
  },
  {
   "cell_type": "code",
   "execution_count": null,
   "metadata": {
    "id": "NzAUv3vk4qP0"
   },
   "outputs": [],
   "source": [
    "for epoch in range(100000):\n",
    "    optimizer.zero_grad()\n",
    "    output = linear_model(train_input)\n",
    "    loss = mse(output, train_target)\n",
    "    loss.backward()\n",
    "    optimizer.step()\n",
    "    if epoch%10000 == 0:\n",
    "       print(\"loss:\", loss.item())"
   ]
  },
  {
   "cell_type": "code",
   "execution_count": null,
   "metadata": {
    "id": "W3IJPaXA9kL9"
   },
   "outputs": [],
   "source": [
    "for param in linear_model.parameters():\n",
    "  print(type(param), param.size())"
   ]
  },
  {
   "cell_type": "markdown",
   "metadata": {
    "id": "9VAuOTLU-cv3"
   },
   "source": [
    "# 자료 분석 실습 2 : 딥러닝 이진분류모형 - sonar data\n",
    "\n"
   ]
  },
  {
   "cell_type": "code",
   "execution_count": null,
   "metadata": {
    "id": "Ajx799qM-t56"
   },
   "outputs": [],
   "source": [
    "import numpy as np\n",
    "import pandas as pd\n",
    "import matplotlib.pyplot as plt\n",
    "from sklearn.metrics import roc_curve, roc_auc_score, precision_recall_curve, average_precision_score\n",
    "from sklearn.model_selection import train_test_split\n",
    "\n",
    "# Sonar 데이터 로드\n",
    "url = \"https://archive.ics.uci.edu/ml/machine-learning-databases/undocumented/connectionist-bench/sonar/sonar.all-data\"\n",
    "column_names = [f\"Attribute_{i}\" for i in range(1, 61)] + [\"Class\"]\n",
    "data = pd.read_csv(url, header=None, names=column_names)\n",
    "data.columns\n",
    "\n",
    "# 특성과 라벨 분리\n",
    "y = data['Class'].astype('category')\n",
    "y = pd.get_dummies(y)\n",
    "print(\"head(y):\", y.head())\n",
    "y = np.array(y.drop(columns = [\"R\"]), dtype = float) # y=1 denotes Metal\n",
    "X = np.array(data.drop(columns=[\"Class\"]))\n",
    "\n",
    "print(\"X.shape, y.shape:\", X.shape, y.shape)\n"
   ]
  },
  {
   "cell_type": "code",
   "execution_count": null,
   "metadata": {
    "id": "fxJ8dQf6-ytW"
   },
   "outputs": [],
   "source": [
    "import torch\n",
    "import torch.nn as nn\n",
    "import torch.optim as optim\n",
    "\n",
    "# 데이터 분할 (텐서로 변환 저장)\n",
    "train_input, test_input, train_target, test_target = train_test_split(X, y, test_size=0.3, random_state=42)\n",
    "train_input = torch.tensor(train_input, dtype = torch.float32)\n",
    "train_target = torch.tensor(train_target, dtype = torch.float32)\n",
    "test_input = torch.tensor(test_input, dtype = torch.float32)\n",
    "test_target = torch.tensor(test_target, dtype = torch.float32)"
   ]
  },
  {
   "cell_type": "code",
   "execution_count": null,
   "metadata": {
    "id": "iE4JBSO2xm5V"
   },
   "outputs": [],
   "source": [
    "model = nn.Sequential(nn.Linear(60, 30),\n",
    "              nn.ReLU(),\n",
    "              nn.Linear(30, 20),\n",
    "              nn.ReLU(),\n",
    "              nn.Linear(20, 10),\n",
    "              nn.ReLU(),\n",
    "              nn.Linear(10, 1),\n",
    "              nn.Sigmoid())\n",
    "\n",
    "optimizer = optim.Adam(model.parameters(), lr=0.01)\n",
    "criterion = nn.BCELoss()"
   ]
  },
  {
   "cell_type": "code",
   "execution_count": null,
   "metadata": {
    "id": "3uVTDouoxa-4"
   },
   "outputs": [],
   "source": [
    "for epoch in range(1000):\n",
    "    optimizer.zero_grad()\n",
    "    output = model(train_input)\n",
    "    loss = criterion(output, train_target)\n",
    "    loss.backward()\n",
    "    optimizer.step()\n",
    "    if epoch % 100 == 0:\n",
    "        print(f\"Epoch {epoch+1}, Loss: {loss.item():.4f}\")\n"
   ]
  },
  {
   "cell_type": "code",
   "execution_count": null,
   "metadata": {
    "id": "d7eTmRS14PfL"
   },
   "outputs": [],
   "source": [
    "output = np.array(model(test_input).detach())\n",
    "target = np.array(test_target)"
   ]
  },
  {
   "cell_type": "code",
   "execution_count": null,
   "metadata": {
    "id": "CrQQX6VOBV-K"
   },
   "outputs": [],
   "source": [
    "output"
   ]
  },
  {
   "cell_type": "code",
   "execution_count": null,
   "metadata": {
    "id": "CVQioBhf4VLB"
   },
   "outputs": [],
   "source": [
    "# Template 이므로 output 과 target 설정만 갱신하면 새로운 데이터에도 적용할 수 있음\n",
    "# ROC 곡선 그리기 및 AUC 계산\n",
    "fpr, tpr, _ = roc_curve(target, output)\n",
    "roc_auc = roc_auc_score(target, output)\n",
    "\n",
    "plt.figure()\n",
    "plt.plot(fpr, tpr, color='darkorange', lw=2, label='ROC curve (area = %0.2f)' % roc_auc)\n",
    "plt.plot([0, 1], [0, 1], color='navy', lw=2, linestyle='--')\n",
    "plt.xlim([0.0, 1.0])\n",
    "plt.ylim([0.0, 1.05])\n",
    "plt.xlabel('False Positive Rate')\n",
    "plt.ylabel('True Positive Rate')\n",
    "plt.title('Receiver Operating Characteristic (ROC)')\n",
    "plt.legend(loc=\"lower right\")\n",
    "plt.show()\n",
    "\n",
    "# Precision-Recall 곡선 그리기 및 Average Precision 계산\n",
    "precision, recall, _ = precision_recall_curve(target, output)\n",
    "average_precision = average_precision_score(target, output)\n",
    "\n",
    "plt.figure()\n",
    "plt.plot(recall, precision, color='blue', lw=2, label='PR curve (AP = %0.2f)' % average_precision)\n",
    "plt.xlim([0.0, 1.0])\n",
    "plt.ylim([0.0, 1.05])\n",
    "plt.xlabel('Recall')\n",
    "plt.ylabel('Precision')\n",
    "plt.title('Precision-Recall Curve')\n",
    "plt.legend(loc=\"lower left\")\n",
    "plt.show()\n",
    "\n",
    "print(\"ROC AUC: %0.2f\" % roc_auc)\n",
    "print(\"Average Precision: %0.2f\" % average_precision)\n"
   ]
  },
  {
   "cell_type": "markdown",
   "metadata": {
    "id": "QGQie1oLQ1lb"
   },
   "source": [
    "# 자료 분석 실습3 : 딥러닝 다범주 분류모형"
   ]
  },
  {
   "cell_type": "code",
   "execution_count": null,
   "metadata": {
    "id": "BZc1AQd6RAia"
   },
   "outputs": [],
   "source": [
    "import os\n",
    "import pandas as pd\n",
    "import zipfile\n",
    "import urllib.request\n",
    "\n",
    "# 데이터셋 URL과 파일 이름 설정\n",
    "url = 'https://archive.ics.uci.edu/ml/machine-learning-databases/00240/UCI%20HAR%20Dataset.zip'\n",
    "filename = 'UCI_HAR_Dataset.zip'\n",
    "\n",
    "# 파일 다운로드\n",
    "if not os.path.exists(filename):\n",
    "    urllib.request.urlretrieve(url, filename)\n",
    "\n",
    "# 압축 해제\n",
    "with zipfile.ZipFile(filename, 'r') as zip_ref:\n",
    "    zip_ref.extractall()\n"
   ]
  },
  {
   "cell_type": "code",
   "execution_count": null,
   "metadata": {
    "id": "UCtkprYmRCBv"
   },
   "outputs": [],
   "source": [
    "# 데이터 로드 (예: train 데이터)\n",
    "colnames = pd.read_csv('UCI HAR Dataset/features.txt', delim_whitespace=True,\n",
    "                       header=None, usecols=[1])\n",
    "colnames.columns\n",
    "df_input = pd.read_csv('UCI HAR Dataset/train/X_train.txt',\n",
    "                       delim_whitespace=True, header=None)\n",
    "\n",
    "df_input.columns = colnames[1]\n",
    "df_input.head()"
   ]
  },
  {
   "cell_type": "code",
   "execution_count": null,
   "metadata": {
    "id": "Weo6kY1KRElp"
   },
   "outputs": [],
   "source": [
    "df_target = pd.read_csv('UCI HAR Dataset/train/y_train.txt', header=None)\n",
    "df_target.columns = ['activity']\n",
    "df_target.head()\n",
    "df_target['activity'].value_counts()\n",
    "# target 번호가 0부터 시작되어야 합니다.\n",
    "df_target['activity'] = df_target['activity'] - 1\n",
    "# 활동 레이블\n",
    "target_labels = pd.read_csv('UCI HAR Dataset/activity_labels.txt',\n",
    "                              delim_whitespace=True, header=None, index_col=0)"
   ]
  },
  {
   "cell_type": "code",
   "execution_count": null,
   "metadata": {
    "id": "XnxouuUiR4Jf"
   },
   "outputs": [],
   "source": [
    "df_target"
   ]
  },
  {
   "cell_type": "code",
   "execution_count": null,
   "metadata": {
    "id": "ZJGr1vAbR5zB"
   },
   "outputs": [],
   "source": [
    "df_target.value_counts()"
   ]
  },
  {
   "cell_type": "code",
   "execution_count": null,
   "metadata": {
    "id": "zRbQl7YiRsO6"
   },
   "outputs": [],
   "source": [
    "target_labels"
   ]
  },
  {
   "cell_type": "code",
   "execution_count": null,
   "metadata": {
    "id": "wzooeqCdR_9R"
   },
   "outputs": [],
   "source": [
    "from sklearn.model_selection import train_test_split\n",
    "from sklearn.preprocessing import StandardScaler\n",
    "\n",
    "train_input, test_input, train_target, test_target = \\\n",
    "      train_test_split(df_input, df_target, test_size=0.3, random_state=1)\n",
    "import torch\n",
    "import torch.nn as nn\n",
    "import torch.optim as optim\n",
    "# 코드 확인\n",
    "train_input = torch.Tensor(train_input.values)\n",
    "test_input = torch.Tensor(test_input.values)\n",
    "train_target = torch.tensor(train_target.values, dtype = torch.int64)\n",
    "test_target = torch.tensor(test_target.values, dtype = torch.int64)\n",
    "\n",
    "print('train_input.shape:', train_input.shape)\n",
    "print('train_target.shape:', train_target.shape)\n",
    "print('train_target.unique()',train_target.unique())\n",
    "\n",
    "# Softmax 에서 받는 데이터는 벡터 형식으로 되어 있어야 합니다.\n",
    "train_target = train_target.squeeze(1)\n",
    "test_target = test_target.squeeze(1)"
   ]
  },
  {
   "cell_type": "code",
   "execution_count": null,
   "metadata": {
    "id": "3yEkaihKVGhw"
   },
   "outputs": [],
   "source": [
    "import torch.nn as nn\n",
    "model = nn.Sequential(nn.Linear(561, 100),\n",
    "                      nn.Sigmoid(),\n",
    "                      nn.Linear(100,25),\n",
    "                      nn.Sigmoid(),\n",
    "                      nn.Linear(25,6),\n",
    "                      nn.Softmax(dim=1))\n"
   ]
  },
  {
   "cell_type": "code",
   "execution_count": null,
   "metadata": {
    "id": "nDD1HQRwV_vk"
   },
   "outputs": [],
   "source": [
    "model(train_input)"
   ]
  },
  {
   "cell_type": "code",
   "execution_count": null,
   "metadata": {
    "id": "4cL5_ngPWB1k"
   },
   "outputs": [],
   "source": [
    "output = model(train_input)\n",
    "print('output.shape:', output.shape)\n",
    "output[0:1,:].sum(dim = 1)"
   ]
  },
  {
   "cell_type": "code",
   "execution_count": null,
   "metadata": {
    "id": "EatdljqN8ka0"
   },
   "outputs": [],
   "source": [
    "optimizer = optim.Adam(model.parameters(), lr=0.01)\n",
    "criterion = nn.CrossEntropyLoss()"
   ]
  },
  {
   "cell_type": "code",
   "execution_count": null,
   "metadata": {
    "id": "r73e3H4M8qYd"
   },
   "outputs": [],
   "source": [
    "for epoch in range(1000):\n",
    "    optimizer.zero_grad()\n",
    "    output = model(train_input)\n",
    "    loss = criterion(output, train_target)\n",
    "    loss.backward()\n",
    "    optimizer.step()\n",
    "    if epoch % 100 == 0:\n",
    "        print(f\"Epoch {epoch+1}, Loss: {loss.item():.4f}\")"
   ]
  },
  {
   "cell_type": "code",
   "execution_count": null,
   "metadata": {
    "id": "qxge28EF8xM2"
   },
   "outputs": [],
   "source": [
    "# 최종 예측 범주값\n",
    "model(test_input).argmax(dim=1)"
   ]
  },
  {
   "cell_type": "code",
   "execution_count": null,
   "metadata": {
    "id": "5Cjwi6_Q9FFS"
   },
   "outputs": [],
   "source": [
    "# 정확도 계산\n",
    "pred_class = model(test_input).argmax(dim=1).detach()\n",
    "(pred_class == test_target).sum() / len(test_target)"
   ]
  },
  {
   "cell_type": "code",
   "execution_count": null,
   "metadata": {
    "id": "TE2H97F682oO"
   },
   "outputs": [],
   "source": [
    "print(model)"
   ]
  },
  {
   "cell_type": "code",
   "execution_count": null,
   "metadata": {
    "id": "V73nWN1Z84MV"
   },
   "outputs": [],
   "source": [
    "print('model.net[0].weight', model[0].weight)\n",
    "print('model.net[2].weight', model[2].weight)"
   ]
  },
  {
   "cell_type": "code",
   "execution_count": null,
   "metadata": {
    "id": "yXe5GQ2S9gVa"
   },
   "outputs": [],
   "source": [
    "model[0].weight.shape"
   ]
  },
  {
   "cell_type": "code",
   "execution_count": null,
   "metadata": {
    "id": "5JvA6EnS9k3_"
   },
   "outputs": [],
   "source": [
    "model[2].weight.shape"
   ]
  },
  {
   "cell_type": "code",
   "execution_count": null,
   "metadata": {
    "id": "gUkIfcLn9nqT"
   },
   "outputs": [],
   "source": [
    "# sigmoid 함수는 weight가 없다!\n",
    "model[1].weight"
   ]
  },
  {
   "cell_type": "code",
   "execution_count": null,
   "metadata": {
    "id": "N38mL08b9vLy"
   },
   "outputs": [],
   "source": [
    "model[0].bias"
   ]
  },
  {
   "cell_type": "markdown",
   "metadata": {
    "id": "X5QodaoKAtMh"
   },
   "source": [
    "# 파이토치를 이용한 GPU 컴퓨팅 실습"
   ]
  },
  {
   "cell_type": "code",
   "execution_count": null,
   "metadata": {
    "id": "1BuvMNlAAsOo"
   },
   "outputs": [],
   "source": [
    "import torch\n",
    "import torch.nn as nn\n",
    "import torch.optim as optim\n",
    "\n",
    "device = torch.device(\"cuda\" if torch.cuda.is_available() else \"cpu\")"
   ]
  },
  {
   "cell_type": "code",
   "execution_count": null,
   "metadata": {
    "id": "XznaHVzPwGrY"
   },
   "outputs": [],
   "source": [
    "device"
   ]
  },
  {
   "cell_type": "code",
   "execution_count": null,
   "metadata": {
    "id": "i1_afUi8wZCp"
   },
   "outputs": [],
   "source": [
    "# 앞의 데이터를 gpu로 옮기기\n",
    "\n",
    "train_input = train_input.to(device)\n",
    "train_target = train_target.to(device)\n",
    "test_input = test_input.to(device)\n",
    "test_target = test_target.to(device)"
   ]
  },
  {
   "cell_type": "code",
   "execution_count": null,
   "metadata": {
    "id": "A6aPcF5twqUp"
   },
   "outputs": [],
   "source": [
    "# 잘 옮겨졌는지 확인\n",
    "\n",
    "train_input.is_cuda"
   ]
  },
  {
   "cell_type": "code",
   "execution_count": null,
   "metadata": {
    "id": "Z_t0M2flwx_g"
   },
   "outputs": [],
   "source": [
    "# 모델도 gpu로 옮기기\n",
    "import torch.nn as nn\n",
    "model = nn.Sequential(nn.Linear(561, 100),\n",
    "                      nn.Sigmoid(),\n",
    "                      nn.Linear(100,25),\n",
    "                      nn.Sigmoid(),\n",
    "                      nn.Linear(25,6),\n",
    "                      nn.Softmax(dim=1))\n",
    "\n",
    "model = model.to(device)\n",
    "optimizer = optim.Adam(model.parameters(), lr=0.01)\n",
    "criterion = nn.CrossEntropyLoss()"
   ]
  },
  {
   "cell_type": "code",
   "execution_count": null,
   "metadata": {
    "id": "34kgxCAoxKnI"
   },
   "outputs": [],
   "source": [
    "for epoch in range(1000):\n",
    "    optimizer.zero_grad()\n",
    "    output = model(train_input)\n",
    "    loss = criterion(output, train_target)\n",
    "    loss.backward()\n",
    "    optimizer.step()\n",
    "    if epoch % 100 == 0:\n",
    "        print(f\"Epoch {epoch+1}, Loss: {loss.item():.4f}\")"
   ]
  },
  {
   "cell_type": "code",
   "execution_count": null,
   "metadata": {
    "id": "ied-kGqC17QX"
   },
   "outputs": [],
   "source": [
    "# 큰 데이터에 대해 한번 더 적용해보자\n",
    "\n",
    "from torchvision.datasets import MNIST\n",
    "\n",
    "# download path 정의\n",
    "download_root = './MNIST_DATASET'\n",
    "\n",
    "train_dataset = MNIST(download_root, train=True, download=True)\n",
    "test_dataset = MNIST(download_root, train=False, download=True)"
   ]
  },
  {
   "cell_type": "code",
   "execution_count": null,
   "metadata": {
    "id": "Wk9OzeDp5Ber"
   },
   "outputs": [],
   "source": [
    "test_dataset"
   ]
  },
  {
   "cell_type": "code",
   "execution_count": null,
   "metadata": {
    "id": "wYy8EsmI5cDE"
   },
   "outputs": [],
   "source": [
    "test_dataset.data[0]"
   ]
  },
  {
   "cell_type": "code",
   "execution_count": null,
   "metadata": {
    "id": "AhWHuiOo4b29"
   },
   "outputs": [],
   "source": [
    "test_dataset.data[0].shape"
   ]
  },
  {
   "cell_type": "code",
   "execution_count": null,
   "metadata": {
    "id": "G1w9ZQ2J5QyU"
   },
   "outputs": [],
   "source": [
    "test_dataset.targets"
   ]
  },
  {
   "cell_type": "code",
   "execution_count": null,
   "metadata": {
    "id": "iAUK7ZUX5ecc"
   },
   "outputs": [],
   "source": [
    "test_dataset.targets.shape"
   ]
  },
  {
   "cell_type": "code",
   "execution_count": null,
   "metadata": {
    "id": "KCV3_RS843Ct"
   },
   "outputs": [],
   "source": [
    "train_input = train_dataset.data.reshape(-1,28*28)\n",
    "test_input = test_dataset.data.reshape(-1,28*28)\n",
    "train_target = train_dataset.targets\n",
    "test_target = test_dataset.targets"
   ]
  },
  {
   "cell_type": "code",
   "execution_count": null,
   "metadata": {
    "id": "nDwgwjGJ5u8P"
   },
   "outputs": [],
   "source": [
    "train_input"
   ]
  },
  {
   "cell_type": "code",
   "execution_count": null,
   "metadata": {
    "id": "pkXtlsEv528c"
   },
   "outputs": [],
   "source": [
    "train_input.shape"
   ]
  },
  {
   "cell_type": "code",
   "execution_count": null,
   "metadata": {
    "id": "7TE0AaPC5wxG"
   },
   "outputs": [],
   "source": [
    "train_target.shape"
   ]
  },
  {
   "cell_type": "code",
   "execution_count": null,
   "metadata": {
    "id": "MQ-4jsd27D9Q"
   },
   "outputs": [],
   "source": [
    "train_input = train_input.to(torch.float32)\n",
    "test_input = test_input.to(torch.float32)"
   ]
  },
  {
   "cell_type": "code",
   "execution_count": null,
   "metadata": {
    "id": "L13IT6ch6f9n"
   },
   "outputs": [],
   "source": [
    "import torch.nn as nn\n",
    "model = nn.Sequential(nn.Linear(784, 300),\n",
    "                      nn.ReLU(),\n",
    "                      nn.Linear(300,100),\n",
    "                      nn.ReLU(),\n",
    "                      nn.Linear(100,10),\n",
    "                      nn.Softmax(dim=1))\n",
    "\n",
    "optimizer = optim.Adam(model.parameters(), lr=0.0001)\n",
    "criterion = nn.CrossEntropyLoss()\n",
    "\n",
    "for epoch in range(1000):\n",
    "    optimizer.zero_grad()\n",
    "    output = model(train_input)\n",
    "    loss = criterion(output, train_target)\n",
    "    loss.backward()\n",
    "    optimizer.step()\n",
    "    if epoch % 100 == 0:\n",
    "        print(f\"Epoch {epoch+1}, Loss: {loss.item():.4f}\")"
   ]
  },
  {
   "cell_type": "code",
   "execution_count": null,
   "metadata": {
    "id": "WWOy5Fol7dgE"
   },
   "outputs": [],
   "source": [
    "# GPU로 똑같이 돌려보자\n",
    "\n",
    "# 앞의 데이터를 gpu로 옮기기\n",
    "\n",
    "train_input = train_input.to(device)\n",
    "train_target = train_target.to(device)\n",
    "test_input = test_input.to(device)\n",
    "test_target = test_target.to(device)\n",
    "\n",
    "# 모델도 gpu로 옮기기\n",
    "import torch.nn as nn\n",
    "model = nn.Sequential(nn.Linear(784, 300),\n",
    "                      nn.ReLU(),\n",
    "                      nn.Linear(300,100),\n",
    "                      nn.ReLU(),\n",
    "                      nn.Linear(100,10),\n",
    "                      nn.Softmax(dim=1))\n",
    "\n",
    "model = model.to(device)\n",
    "optimizer = optim.Adam(model.parameters(), lr=0.0001)\n",
    "criterion = nn.CrossEntropyLoss()"
   ]
  },
  {
   "cell_type": "code",
   "execution_count": null,
   "metadata": {
    "id": "CVSVyvkq7q68"
   },
   "outputs": [],
   "source": [
    "for epoch in range(1000):\n",
    "    optimizer.zero_grad()\n",
    "    output = model(train_input)\n",
    "    loss = criterion(output, train_target)\n",
    "    loss.backward()\n",
    "    optimizer.step()\n",
    "    if epoch % 100 == 0:\n",
    "        print(f\"Epoch {epoch+1}, Loss: {loss.item():.4f}\")"
   ]
  },
  {
   "cell_type": "code",
   "execution_count": null,
   "metadata": {
    "id": "8v4e6RTP8TE_"
   },
   "outputs": [],
   "source": [
    "## 미니배치러닝으로 학습해보자\n",
    "\n",
    "#미니배치 생성\n",
    "\n",
    "train_input = train_dataset.data.reshape(-1,28*28)\n",
    "test_input = test_dataset.data.reshape(-1,28*28)\n",
    "train_target = train_dataset.targets\n",
    "test_target = test_dataset.targets\n",
    "\n",
    "train_input = train_input.to(torch.float32)\n",
    "test_input = test_input.to(torch.float32)\n",
    "\n",
    "from torch.utils.data import Dataset, DataLoader, TensorDataset\n",
    "train_loader = DataLoader(dataset=list(zip(train_input,train_target)), batch_size=256, pin_memory = True, shuffle=True)\n",
    "\n",
    "i = 0\n",
    "for input, target in train_loader:\n",
    "    print(i)\n",
    "    print(input.shape, target.shape)\n",
    "    i += 1"
   ]
  },
  {
   "cell_type": "code",
   "execution_count": null,
   "metadata": {
    "id": "St3eyQ8H_J39"
   },
   "outputs": [],
   "source": [
    "# GPU로 똑같이 돌려보자 : 미니배치러닝 ver.\n",
    "\n",
    "# 모델도 gpu로 옮기기\n",
    "import torch.nn as nn\n",
    "model = nn.Sequential(nn.Linear(784, 300),\n",
    "                      nn.ReLU(),\n",
    "                      nn.Linear(300,100),\n",
    "                      nn.ReLU(),\n",
    "                      nn.Linear(100,10),\n",
    "                      nn.Softmax(dim=1))\n",
    "model = model.to(device)\n",
    "optimizer = optim.Adam(model.parameters(), lr=0.0001)\n",
    "criterion = nn.CrossEntropyLoss()"
   ]
  },
  {
   "cell_type": "code",
   "execution_count": null,
   "metadata": {
    "id": "_BbGgRT5_hpE"
   },
   "outputs": [],
   "source": [
    "# 미니배치 러닝\n",
    "\n",
    "for epoch in range(100):\n",
    "  for input, target in train_loader:\n",
    "    input = input.to(device)\n",
    "    target = target.to(device)\n",
    "    optimizer.zero_grad()\n",
    "    output = model(input)\n",
    "    loss = criterion(output, target)\n",
    "    loss.backward()\n",
    "    optimizer.step()\n",
    "  if epoch % 10 == 0:\n",
    "    print(f\"Epoch {epoch+1}, Loss: {loss.item():.4f}\")"
   ]
  },
  {
   "cell_type": "markdown",
   "metadata": {
    "id": "QEYg9L1thydz"
   },
   "source": [
    "# 커스텀 모형 만들기"
   ]
  },
  {
   "cell_type": "code",
   "execution_count": null,
   "metadata": {
    "id": "Gu1yvUTlhyHO"
   },
   "outputs": [],
   "source": [
    "class mymodel(nn.Module):\n",
    "    def __init__(self):\n",
    "        super(mymodel, self).__init__()\n",
    "        self.net = nn.Sequential(nn.Linear(784, 300),\n",
    "                      nn.ReLU(),\n",
    "                      nn.Linear(300,100),\n",
    "                      nn.ReLU(),\n",
    "                      nn.Linear(100,10),\n",
    "                      nn.Softmax(dim=1))\n",
    "    def forward(self, x):\n",
    "        return self.net(x)\n",
    "\n",
    "\n",
    "# 모델 학습\n",
    "model = mymodel()\n",
    "optimizer = optim.Adam(model.parameters(), lr=0.0001)\n",
    "criterion = nn.CrossEntropyLoss()"
   ]
  },
  {
   "cell_type": "code",
   "execution_count": null,
   "metadata": {
    "id": "4tBFvJBphxca"
   },
   "outputs": [],
   "source": [
    "for epoch in range(1000):\n",
    "    optimizer.zero_grad()\n",
    "    output = model(train_input)\n",
    "    loss = criterion(output, train_target)\n",
    "    loss.backward()\n",
    "    optimizer.step()\n",
    "    if epoch % 100 == 0:\n",
    "        print(f\"Epoch {epoch+1}, Loss: {loss.item():.4f}\")\n"
   ]
  },
  {
   "cell_type": "code",
   "execution_count": null,
   "metadata": {
    "id": "TD1OaNEijxUz"
   },
   "outputs": [],
   "source": [
    "class mymodel(nn.Module):\n",
    "    def __init__(self):\n",
    "        super(mymodel, self).__init__()\n",
    "        self.net = nn.Sequential(nn.Linear(784, 300),\n",
    "                      nn.ReLU(),\n",
    "                      nn.Linear(300,100),\n",
    "                      nn.ReLU(),\n",
    "                      nn.Linear(100,10))\n",
    "    def forward(self, x):\n",
    "        return self.net(x)\n",
    "\n",
    "\n",
    "# 모델 학습\n",
    "model = nn.Sequential(mymodel(), nn.Softmax(dim=1))\n",
    "optimizer = optim.Adam(model.parameters(), lr=0.0001)\n",
    "criterion = nn.CrossEntropyLoss()"
   ]
  },
  {
   "cell_type": "code",
   "execution_count": null,
   "metadata": {
    "id": "J-4_Y8-6j68Y"
   },
   "outputs": [],
   "source": [
    "for epoch in range(1000):\n",
    "    optimizer.zero_grad()\n",
    "    output = model(train_input)\n",
    "    loss = criterion(output, train_target)\n",
    "    loss.backward()\n",
    "    optimizer.step()\n",
    "    if epoch % 100 == 0:\n",
    "        print(f\"Epoch {epoch+1}, Loss: {loss.item():.4f}\")"
   ]
  }
 ],
 "metadata": {
  "colab": {
   "provenance": []
  },
  "kernelspec": {
   "display_name": "Python 3 (ipykernel)",
   "language": "python",
   "name": "python3"
  },
  "language_info": {
   "codemirror_mode": {
    "name": "ipython",
    "version": 3
   },
   "file_extension": ".py",
   "mimetype": "text/x-python",
   "name": "python",
   "nbconvert_exporter": "python",
   "pygments_lexer": "ipython3",
   "version": "3.11.3"
  }
 },
 "nbformat": 4,
 "nbformat_minor": 1
}
