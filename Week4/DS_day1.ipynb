{
  "nbformat": 4,
  "nbformat_minor": 0,
  "metadata": {
    "colab": {
      "provenance": []
    },
    "kernelspec": {
      "name": "python3",
      "display_name": "Python 3"
    },
    "language_info": {
      "name": "python"
    }
  },
  "cells": [
    {
      "cell_type": "markdown",
      "source": [
        "# 캘리포니아 집값 예측 자료\n",
        "\n",
        "- input\n",
        "  - MedInc: Block group 내 중간 소득 (단위: $10,000)\n",
        "\n",
        "  - HouseAge: Block group 내 주택의 중간 연령\n",
        "\n",
        "  - AveRooms: 가구당 평균 방 개수\n",
        "\n",
        "  - AveBedrms: 가구당 평균 침실 개수\n",
        "\n",
        "  - Population: Block group 내 인구 수\n",
        "\n",
        "  - AveOccup: 가구당 평균 거주자 수\n",
        "\n",
        "  - Latitude: Block group의 위도\n",
        "\n",
        "  - Longitude: Block group의 경도\n",
        "\n",
        "- 타겟 (Target)\n",
        "\n",
        "  - MedHouseVal: Block group 내 중간 주택 가격 (단위: $100,000)"
      ],
      "metadata": {
        "id": "u4nOWoIRu4KE"
      }
    },
    {
      "cell_type": "code",
      "execution_count": null,
      "metadata": {
        "id": "Sh1fqRPmbxB5"
      },
      "outputs": [],
      "source": [
        "from sklearn.datasets import fetch_california_housing\n",
        "import pandas as pd\n",
        "\n",
        "# 데이터 불러오기\n",
        "california_housing = fetch_california_housing()\n",
        "\n",
        "# 데이터를 판다스 데이터프레임으로 변환\n",
        "X = pd.DataFrame(california_housing.data, columns=california_housing.feature_names)\n",
        "y = pd.DataFrame(california_housing.target, columns = ['MedHouseVal'])"
      ]
    },
    {
      "cell_type": "code",
      "source": [
        "X.head()"
      ],
      "metadata": {
        "id": "5iHiQftVt8j4"
      },
      "execution_count": null,
      "outputs": []
    },
    {
      "cell_type": "code",
      "source": [
        "y.head()"
      ],
      "metadata": {
        "id": "aRPh5q47uBYa"
      },
      "execution_count": null,
      "outputs": []
    },
    {
      "cell_type": "markdown",
      "source": [
        "#선형회귀모형을 학습하는 첫번째 방법: statsmodels 패키지 사용"
      ],
      "metadata": {
        "id": "ArDingkxxDsj"
      }
    },
    {
      "cell_type": "code",
      "source": [
        "import statsmodels.api as sm\n",
        "\n",
        "X1 = sm.add_constant(X)\n",
        "lin_model = sm.OLS(y, X1)\n",
        "res = lin_model.fit()\n",
        "res.summary()"
      ],
      "metadata": {
        "id": "fqMh1ftHutD-"
      },
      "execution_count": null,
      "outputs": []
    },
    {
      "cell_type": "markdown",
      "source": [
        "#선형회귀모형을 학습하는 두번째 방법: sklearn 패키지의 LinearRegression 함수 사용"
      ],
      "metadata": {
        "id": "_-9elR2hxLUv"
      }
    },
    {
      "cell_type": "code",
      "source": [
        "from sklearn.linear_model import LinearRegression\n",
        "lin_reg = LinearRegression()\n",
        "lin_reg.fit(X, y)"
      ],
      "metadata": {
        "id": "cPa_XFKUwq_m"
      },
      "execution_count": null,
      "outputs": []
    },
    {
      "cell_type": "code",
      "source": [
        "lin_reg.coef_"
      ],
      "metadata": {
        "id": "x8Qu5Xyqx3UF"
      },
      "execution_count": null,
      "outputs": []
    },
    {
      "cell_type": "code",
      "source": [
        "lin_reg.intercept_"
      ],
      "metadata": {
        "id": "k7M2AN_zx93N"
      },
      "execution_count": null,
      "outputs": []
    },
    {
      "cell_type": "markdown",
      "source": [
        "#붓꽃 데이터 분석\n",
        "\n",
        "- 총 4개의 입력변수와 1개의 출력변수로 구성\n",
        "\n",
        " - 입력변수 : sepal_length, sepal_width, petal_length, petal_width - 전부 수치형 변수\n",
        " - 출력변수 : species - 범주형 변수"
      ],
      "metadata": {
        "id": "-ByF2SeeTdyo"
      }
    },
    {
      "cell_type": "code",
      "source": [
        "import seaborn as sns\n",
        "iris = sns.load_dataset('iris')\n",
        "iris"
      ],
      "metadata": {
        "id": "-Mlt_8KZPoAf"
      },
      "execution_count": null,
      "outputs": []
    },
    {
      "cell_type": "code",
      "source": [
        "y = iris['species']\n",
        "y"
      ],
      "metadata": {
        "collapsed": true,
        "id": "ctHu-D30UviP"
      },
      "execution_count": null,
      "outputs": []
    },
    {
      "cell_type": "code",
      "source": [
        "# 특성과 라벨 분리\n",
        "y = iris['species'].astype('category')\n",
        "y = pd.get_dummies(y)\n",
        "y.head()\n"
      ],
      "metadata": {
        "id": "BS_7reyYUpiV"
      },
      "execution_count": null,
      "outputs": []
    },
    {
      "cell_type": "code",
      "source": [
        "y = np.array(y.loc[:,\"setosa\"], dtype = float) # y=1 denotes setosa\n",
        "X = np.array(iris.iloc[:,0:4])\n",
        "\n",
        "print(\"X.shape, y.shape:\", X.shape, y.shape)"
      ],
      "metadata": {
        "id": "2nYRm6nUU5-n"
      },
      "execution_count": null,
      "outputs": []
    },
    {
      "cell_type": "code",
      "source": [
        "y"
      ],
      "metadata": {
        "id": "aLmFx0KNVcKQ"
      },
      "execution_count": null,
      "outputs": []
    },
    {
      "cell_type": "code",
      "source": [
        "from sklearn.linear_model import LogisticRegression\n",
        "\n",
        "log_reg = LogisticRegression()\n",
        "log_reg.fit(X, y)"
      ],
      "metadata": {
        "id": "XKzlEZMaWg3e"
      },
      "execution_count": null,
      "outputs": []
    },
    {
      "cell_type": "code",
      "source": [
        "log_reg.coef_"
      ],
      "metadata": {
        "id": "P69pYtYTWpPN"
      },
      "execution_count": null,
      "outputs": []
    },
    {
      "cell_type": "code",
      "source": [
        "log_reg.intercept_"
      ],
      "metadata": {
        "id": "2i0s5rPoWsBE"
      },
      "execution_count": null,
      "outputs": []
    },
    {
      "cell_type": "markdown",
      "source": [
        "#모형 평가(학습자료 ver.)\n",
        "\n",
        "- 회귀모형의 평가\n",
        "- 분류모형의 평가\n"
      ],
      "metadata": {
        "id": "KsdTezag4p4h"
      }
    },
    {
      "cell_type": "code",
      "source": [
        "#### 선형회귀모형의 학습오차\n",
        "#1st ver.\n",
        "from sklearn.metrics import mean_squared_error\n",
        "mean_squared_error(y,res.predict(X1))"
      ],
      "metadata": {
        "id": "NLnQJ7c740M8"
      },
      "execution_count": null,
      "outputs": []
    },
    {
      "cell_type": "code",
      "source": [
        "#2nd ver.\n",
        "pred = lin_reg.predict(X)\n",
        "mean_squared_error(y,pred)"
      ],
      "metadata": {
        "id": "HV0LZ4rR5dfE"
      },
      "execution_count": null,
      "outputs": []
    },
    {
      "cell_type": "code",
      "source": [
        "#3rd ver.\n",
        "\n",
        "((y-pred)**2).sum()/len(y)"
      ],
      "metadata": {
        "id": "R3nf4RaQ6597"
      },
      "execution_count": null,
      "outputs": []
    },
    {
      "cell_type": "code",
      "source": [
        "### 로지스틱 모형의 평가\n",
        "\n",
        "\n",
        "pred = log_reg.predict(X)\n",
        "pred"
      ],
      "metadata": {
        "id": "RRzNXIoRWuIA"
      },
      "execution_count": null,
      "outputs": []
    },
    {
      "cell_type": "code",
      "source": [
        "pred_prob = log_reg.predict_proba(X)\n",
        "pred_prob"
      ],
      "metadata": {
        "id": "MG70sFPxW83m"
      },
      "execution_count": null,
      "outputs": []
    },
    {
      "cell_type": "code",
      "source": [
        "from sklearn.metrics import confusion_matrix\n",
        "confusion_matrix(y, pred)"
      ],
      "metadata": {
        "id": "vJmd1yrWXNJA"
      },
      "execution_count": null,
      "outputs": []
    },
    {
      "cell_type": "code",
      "source": [
        "print(log_reg.score(X, y))"
      ],
      "metadata": {
        "id": "huFU4OyCW4SE"
      },
      "execution_count": null,
      "outputs": []
    },
    {
      "cell_type": "code",
      "source": [
        "import sklearn.metrics as metrics\n",
        "\n",
        "pred_prob = log_reg.predict_proba(X)\n",
        "preds = pred_prob[:,1]\n",
        "fpr, tpr, threshold = metrics.roc_curve(y, preds)\n",
        "roc_auc = metrics.auc(fpr, tpr)\n",
        "roc_auc"
      ],
      "metadata": {
        "id": "tJItNLUgXpbG"
      },
      "execution_count": null,
      "outputs": []
    },
    {
      "cell_type": "code",
      "source": [
        "import matplotlib.pyplot as plt\n",
        "plt.title('Receiver Operating Characteristic')\n",
        "plt.plot(fpr, tpr, 'b', label = 'AUC = %0.2f' % roc_auc)\n",
        "plt.legend(loc = 'lower right')\n",
        "plt.plot([-0.1, 1.1], [-0.1, 1.1],'r--')\n",
        "plt.xlim([-0.1, 1.1])\n",
        "plt.ylim([-0.1, 1.1])\n",
        "plt.ylabel('True Positive Rate')\n",
        "plt.xlabel('False Positive Rate')\n",
        "plt.show()"
      ],
      "metadata": {
        "id": "051Vb1W0X8wP"
      },
      "execution_count": null,
      "outputs": []
    }
  ]
}